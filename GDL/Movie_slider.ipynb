{
 "cells": [
  {
   "cell_type": "markdown",
   "metadata": {},
   "source": [
    "Given a Run number, the file with the s2 and s2si data of interest for that Run (i.e Th photopeak, Cs,..), this nb plots the trace for a given event."
   ]
  },
  {
   "cell_type": "code",
   "execution_count": 1,
   "metadata": {},
   "outputs": [],
   "source": [
    "import os\n",
    "\n",
    "import invisible_cities.io.pmaps_io as pm\n",
    "from invisible_cities.database.load_db import DataSiPM\n",
    "\n",
    "import pandas as pd\n",
    "import numpy as np\n",
    "\n",
    "import matplotlib as mpl\n",
    "mpl.use('Qt5Agg')\n",
    "import matplotlib.pyplot as plt\n",
    "from mpl_toolkits.mplot3d import Axes3D\n",
    "from matplotlib.path import Path\n",
    "import matplotlib.patches as patches\n",
    "from matplotlib.animation import FuncAnimation\n",
    "import matplotlib.gridspec as gridspec\n",
    "from mpl_toolkits.axes_grid1 import make_axes_locatable\n",
    "from matplotlib.widgets import Slider"
   ]
  },
  {
   "cell_type": "markdown",
   "metadata": {},
   "source": [
    "## useful functions"
   ]
  },
  {
   "cell_type": "code",
   "execution_count": 2,
   "metadata": {},
   "outputs": [],
   "source": [
    "def _each(edges, n):\n",
    "    '''Given a list, it given 2 lists such as the first is the original with values\n",
    "    in positions 0,0+n, 0+2*n ...'''\n",
    "    \n",
    "    if len(edges)%n:\n",
    "        mat = []\n",
    "        mit = []\n",
    "        i = 0\n",
    "        while i<len(edges)-n:\n",
    "            mat.append(edges[i])\n",
    "            for j in range(1,n): mit.append(edges[i+j])\n",
    "            i += n\n",
    "        mat.append(edges[-1])\n",
    "        return mat, mit\n",
    "    else: raise ValueError(\"number of edges do not match with n\")"
   ]
  },
  {
   "cell_type": "markdown",
   "metadata": {},
   "source": [
    "# Sipm positions"
   ]
  },
  {
   "cell_type": "code",
   "execution_count": 3,
   "metadata": {},
   "outputs": [],
   "source": [
    "run = 6206\n",
    "datasipm = DataSiPM(run)"
   ]
  },
  {
   "cell_type": "markdown",
   "metadata": {},
   "source": [
    "# EVENT CHOICE"
   ]
  },
  {
   "cell_type": "code",
   "execution_count": 4,
   "metadata": {},
   "outputs": [],
   "source": [
    "evt_type = 'descape' #string with event type: photopeakTh, cs, descape\n",
    "\n",
    "evts = np.load(\"/home/gonzalo/Documentos/NEXT/IMAGES/data selection/{}_evts_{}.npz\".format(evt_type, run))['A_evtnum']"
   ]
  },
  {
   "cell_type": "code",
   "execution_count": 5,
   "metadata": {},
   "outputs": [],
   "source": [
    "n_ev = 1000 #this value should be fixed\n",
    "evts_part  = [evts[n_ev*i:(i+1)*n_ev] for i in range(0, int(len(evts)/n_ev))] + [evts[n_ev * int(len(evts)/n_ev):]]"
   ]
  },
  {
   "cell_type": "code",
   "execution_count": 6,
   "metadata": {},
   "outputs": [],
   "source": [
    "#choose an event\n",
    "j = int(np.random.random()*(int(len(evts)/n_ev)-1))\n",
    "i = int(np.random.random()*n_ev)-1\n",
    "\n",
    "ev = evts_part[j][i]"
   ]
  },
  {
   "cell_type": "code",
   "execution_count": 7,
   "metadata": {},
   "outputs": [],
   "source": [
    "#data of selected events\n",
    "data  = pd.HDFStore('/home/gonzalo/Documentos/NEXT/IMAGES/data selection/{}/{}_{}_{}.h5'.format(run,evt_type, run,j))\n",
    "\n",
    "s1, s2, s2si, s1pmt, s2pmt = data['s1'], data['s2'], data['s2si'], data['s1pmt'], data['s2pmt']"
   ]
  },
  {
   "cell_type": "code",
   "execution_count": 8,
   "metadata": {},
   "outputs": [],
   "source": [
    "s1, s2_ev, s2si_ev, s1pmt, s2pmt = s1[s1.event == ev], s2[s2.event == ev], s2si[s2si.event == ev], s1pmt[s1pmt.event == ev], s2pmt[s2pmt.event == ev]"
   ]
  },
  {
   "cell_type": "markdown",
   "metadata": {},
   "source": [
    "# IMAGE DATAFRAME"
   ]
  },
  {
   "cell_type": "code",
   "execution_count": 9,
   "metadata": {},
   "outputs": [],
   "source": [
    "times = np.array(s2_ev['time'])"
   ]
  },
  {
   "cell_type": "code",
   "execution_count": 10,
   "metadata": {},
   "outputs": [],
   "source": [
    "#INSERTING TIMES TO SIPM DATAFRAME\n",
    "df1 = s2si_ev.reset_index(drop=True)\n",
    "df2_1 = s2_ev['time'].to_frame().reset_index(drop=True)\n",
    "n_times = len(df2_1)\n",
    "\n",
    "df2 = pd.concat([df2_1, df2_1], ignore_index=True)\n",
    "while len(df2)<len(df1): \n",
    "    df2 = pd.concat([df2, df2_1], ignore_index=True)\n",
    "\n",
    "df = pd.concat([df1, df2], axis = 1)"
   ]
  },
  {
   "cell_type": "code",
   "execution_count": 11,
   "metadata": {},
   "outputs": [],
   "source": [
    "# INSETING SIPM POSITION TO THE NEW SIPM DATAFRAME\n",
    "si_pos = pd.DataFrame(columns = ['X', 'Y'])\n",
    "\n",
    "sipms = df1.loc[[n_times*i for i in range(0,int(len(df1)/n_times))]]['nsipm']\n",
    "\n",
    "X, Y = pd.Series([], name='X'), pd.Series([], name='Y')\n",
    "\n",
    "for sipm in sipms:\n",
    "    \n",
    "    si_info = datasipm.loc[sipm][['X','Y']]\n",
    "    \n",
    "    pos = np.array(si_info)*np.ones([n_times,2])\n",
    "    \n",
    "    X = X.append(pd.Series(pos[:,0]), ignore_index = True)\n",
    "    Y = Y.append(pd.Series(pos[:,1]), ignore_index = True) \n",
    "    \n",
    "si_pos['X'], si_pos['Y'] = X, Y"
   ]
  },
  {
   "cell_type": "code",
   "execution_count": 12,
   "metadata": {},
   "outputs": [],
   "source": [
    "imagedf = pd.concat([df, si_pos], axis=1)"
   ]
  },
  {
   "cell_type": "markdown",
   "metadata": {},
   "source": [
    "# Movie method"
   ]
  },
  {
   "cell_type": "code",
   "execution_count": 13,
   "metadata": {},
   "outputs": [],
   "source": [
    "d = 10 #distancia entre sipm\n",
    "x, y =  datasipm['X'], datasipm['Y']\n",
    "\n",
    "xmin, xmax =  x.min(), x.max()\n",
    "ymin, ymax =  y.min(), y.max()\n",
    "\n",
    "nx, ny = (xmax-xmin)/10 + 1, (ymax-ymin)/10 + 1\n",
    "rg = [[xmin-d/2, xmax+d/2], [ymin-d/2, ymax+d/2]]\n",
    "\n",
    "enemin, enemax  = imagedf['ene'].min(), imagedf['ene'].max()\n",
    "\n",
    "H, xedges, yedges = np.histogram2d(x, y, bins = [nx, ny], range = rg)\n",
    "H = H.T\n",
    "\n",
    "si_enes = []\n",
    "for time in times:\n",
    "    si_enes.append(imagedf[imagedf.time == time]['ene'].sum())"
   ]
  },
  {
   "cell_type": "code",
   "execution_count": 14,
   "metadata": {},
   "outputs": [],
   "source": [
    "#detector path\n",
    "verts = [(-80, -240), (80, -240)  , (80, -200)  , (160, -200) , (160, -120),\n",
    "         (240, -120), (240, 120)  , (160, 120)  , (160, 200)  , (80, 200)  ,\n",
    "         (80, 240)  , (-80, 240)  , (-80, 200)  , (-160, 200) , (-160, 120),\n",
    "         (-240, 120), (-240, -120), (-160, -120), (-160, -200), (-80, -200),\n",
    "         (-80, -240)]\n",
    "\n",
    "codes = [ Path.MOVETO, Path.LINETO, Path.LINETO, Path.LINETO, Path.LINETO,\n",
    "          Path.LINETO, Path.LINETO, Path.LINETO, Path.LINETO, Path.LINETO,\n",
    "          Path.LINETO, Path.LINETO, Path.LINETO, Path.LINETO, Path.LINETO,\n",
    "          Path.LINETO, Path.LINETO, Path.LINETO, Path.LINETO, Path.LINETO,\n",
    "          Path.CLOSEPOLY,]\n",
    "\n",
    "path  = Path(verts, codes)\n",
    "patch = patches.PathPatch(path, facecolor='none', edgecolor='black', lw=3)"
   ]
  },
  {
   "cell_type": "code",
   "execution_count": 17,
   "metadata": {},
   "outputs": [],
   "source": [
    "fig = plt.figure(figsize=(10, 5))\n",
    "\n",
    "spec = gridspec.GridSpec(ncols=2, nrows=1, left=0.07, right=0.93, wspace=0.2)\n",
    "\n",
    "ax  = fig.add_subplot(spec[0, 0], title='NEXT-100 tracking plane')\n",
    "ax1 = fig.add_subplot(spec[0, 1], title='E vs T')\n",
    "\n",
    "fig.text( .8, .95  , 'Run number: {}'.format(run));\n",
    "fig.text( .8, .9  , 'Event number: {}'.format(ev));\n",
    "fig.text( .8, .85  , 'Event type: {}'.format(evt_type));\n",
    "e = fig.text( .8, .75 , 'Energy: {}'   .format(''));\n",
    "t = fig.text( .8, .70 , 'Time: {}'     .format(''));\n",
    "\n",
    "# TRACKING PLANE AXES\n",
    "#ax  = fig.add_subplot(1,2,1, title='NEXT-100 tracking plane')\n",
    "axim = ax.imshow(H, cmap='jet', vmin = enemin , vmax = enemax  ,interpolation='nearest', origin='low',\n",
    "           extent=[xedges[0], xedges[-1], yedges[0], yedges[-1]], alpha = 0.5)\n",
    "#ticks of 1 cm^2\n",
    "maxt, mixt = _each(xedges, n = 4)\n",
    "ax.set_xticks(maxt, minor = False)\n",
    "ax.set_xticks(mixt, minor = True)\n",
    "\n",
    "mayt, miyt = _each(yedges, n = 2)\n",
    "ax.set_yticks(mayt, minor = False)\n",
    "ax.set_yticks(miyt, minor = True)\n",
    "\n",
    "# grid,detector contourn\n",
    "ax.grid(which='both');\n",
    "ax.patch.set_animated(True);\n",
    "ax.add_patch(patch);\n",
    "\n",
    "#colorbar\n",
    "divider = make_axes_locatable(ax)\n",
    "cax = divider.append_axes(\"right\", size=\"5%\", pad=0.07)\n",
    "cbar = fig.colorbar(axim, cax = cax);\n",
    "\n",
    "# E vs T AXES\n",
    "#ax1   = fig.add_subplot(1,2,2, title='E vs T')\n",
    "line, = ax1.plot(times, si_enes)\n",
    "\n",
    "#draw circle (taken from https://werthmuller.org/blog/2014/circle/)\n",
    "xy     = (times[0], si_enes[0]) # circle centre\n",
    "radius = .01\n",
    "\n",
    "pr      = fig.get_figwidth()/fig.get_figheight()\n",
    "tscale  = ax1.transScale + (ax1.transLimits + ax1.transAxes)\n",
    "ctscale = tscale.transform_point(xy)\n",
    "cfig    = fig.transFigure.inverted().transform(ctscale)\n",
    "\n",
    "cir = patches.Ellipse(cfig, radius, radius*pr,\n",
    "                transform=fig.transFigure, facecolor = 'none', edgecolor = 'r')\n",
    "\n",
    "ax1.add_artist(cir);"
   ]
  },
  {
   "cell_type": "code",
   "execution_count": 18,
   "metadata": {},
   "outputs": [],
   "source": [
    "def update(frame_number):\n",
    "    \n",
    "    frame_number = int(frame_number)\n",
    "    \n",
    "    #sl.set_val(frame_number)\n",
    "    \n",
    "    #tracking image\n",
    "    imdf = imagedf[imagedf.time == times[frame_number]]\n",
    "    x, y, w = imdf['X'], imdf['Y'], imdf['ene']\n",
    "    H, __, __ = np.histogram2d(x, y, weights = w, bins = [nx, ny], range = rg)\n",
    "    H = H.T\n",
    "    axim.set_data(H)\n",
    "    \n",
    "    #circle \n",
    "    xy = (times[frame_number], w.sum())\n",
    "    ctscale = tscale.transform_point(xy)\n",
    "    cfig    = fig.transFigure.inverted().transform(ctscale)\n",
    "    cir.center = cfig\n",
    "    \n",
    "    # figure text actualization\n",
    "    e.set_text('Energy: {}'.format(int(w.sum())))\n",
    "    t.set_text('Time: {}'  .format(int(times[frame_number])))\n",
    "    \n",
    "    fig.canvas.draw_idle()\n",
    "    \n",
    "    return axim, e, t, cir"
   ]
  },
  {
   "cell_type": "code",
   "execution_count": 19,
   "metadata": {},
   "outputs": [],
   "source": [
    "#caxsl = divider.append_axes(\"bottom\", size=\"5%\", pad=0.3)\n",
    "caxsl = plt.axes([0.1, 0.01, 0.8, 0.03], facecolor='b')\n",
    "\n",
    "sl = Slider(caxsl, 'T', 0, len(times)-1, valinit = 0, valstep = 1)\n",
    "\n",
    "sl.on_changed(update);"
   ]
  },
  {
   "cell_type": "code",
   "execution_count": 20,
   "metadata": {},
   "outputs": [],
   "source": [
    "fig.show()"
   ]
  },
  {
   "cell_type": "code",
   "execution_count": null,
   "metadata": {},
   "outputs": [],
   "source": []
  },
  {
   "cell_type": "code",
   "execution_count": null,
   "metadata": {},
   "outputs": [],
   "source": []
  }
 ],
 "metadata": {
  "kernelspec": {
   "display_name": "Python 3",
   "language": "python",
   "name": "python3"
  },
  "language_info": {
   "codemirror_mode": {
    "name": "ipython",
    "version": 3
   },
   "file_extension": ".py",
   "mimetype": "text/x-python",
   "name": "python",
   "nbconvert_exporter": "python",
   "pygments_lexer": "ipython3",
   "version": "3.6.6"
  }
 },
 "nbformat": 4,
 "nbformat_minor": 2
}
