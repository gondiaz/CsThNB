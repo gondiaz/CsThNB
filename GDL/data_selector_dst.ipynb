{
 "cells": [
  {
   "cell_type": "markdown",
   "metadata": {},
   "source": [
    "Given a Run and a set of events of this Run, this NB searches and saves them. Only S2 sipmt data and pmt total energy data is saved. Inputs needed are:\n",
    "\n",
    "- Run number.\n",
    "- Events number to select.\n",
    "- The number of the last partition in the Run that you want to search.\n",
    "- Directory where pmaps files are saved."
   ]
  },
  {
   "cell_type": "code",
   "execution_count": 1,
   "metadata": {},
   "outputs": [],
   "source": [
    "import os\n",
    "\n",
    "import warnings\n",
    "\n",
    "import invisible_cities.io.dst_io as ht\n",
    "\n",
    "import numpy as np\n",
    "import matplotlib.pyplot as plt\n",
    "import pandas as pd"
   ]
  },
  {
   "cell_type": "code",
   "execution_count": 2,
   "metadata": {},
   "outputs": [],
   "source": [
    "#INPUTS:\n",
    "\n",
    "run       = 6206\n",
    "npart     = 40000  #number of the last partition, or higher\n",
    "directory = \"/home/gonzalo/Documentos/NEXT/DATOS/{}/hdst\".format(run)\n",
    "\n",
    "n_ev  = 200 #number of events in each file"
   ]
  },
  {
   "cell_type": "code",
   "execution_count": 3,
   "metadata": {},
   "outputs": [],
   "source": [
    "#EVENTS TO SELECT (choose one)\n",
    "\n",
    "#cs\n",
    "cs_evt = np.load(\"cs_evts_{}.npz\".format(run))['A_evtnum']\n",
    "\n",
    "#descape\n",
    "descape_evt = np.load(\"descape_evts_{}.npz\".format(run))['A_evtnum']\n",
    "\n",
    "#th\n",
    "th_evt = np.load(\"photopeakTh_evts_{}.npz\".format(run))['A_evtnum']\n",
    "\n",
    "evts = th_evt\n",
    "evts.sort()     #events sorting (this is not compulsory)"
   ]
  },
  {
   "cell_type": "code",
   "execution_count": 4,
   "metadata": {},
   "outputs": [],
   "source": [
    "#evts.sort()\n",
    "#evts_part  = [evts[n_ev*i:(i+1)*n_ev] for i in range(0, int(len(evts)/n_ev))] + [evts[n_ev * int(len(evts)/n_ev):]]\n",
    "#partitions = [\"{:04}\".format(i) for i in range(0, npart+1)]"
   ]
  },
  {
   "cell_type": "code",
   "execution_count": 4,
   "metadata": {},
   "outputs": [
    {
     "name": "stdout",
     "output_type": "stream",
     "text": [
      "Events saved in chunk 03 of 03: 036 %\r"
     ]
    }
   ],
   "source": [
    "#SEARCHER AND DATAFRAME CREATOR\n",
    "\n",
    "#COMMENT: do not mistake the number of partition of pmap, with the number of chunk of the selected data\n",
    "\n",
    "part = 0\n",
    "n_chunk = int(len(evts)/n_ev) + 1 #total number of chunk\n",
    "\n",
    "for j in range(0, n_chunk): #j is the number of chunk\n",
    "    file = 'Thphotopeak_hdst_{}_{}.h5'.format(run, j) #filename of the saved data\n",
    "    i = 0\n",
    "    partitions = [\"{:04}\".format(i) for i in range(int(part), npart+1)]\n",
    "    for part in partitions:\n",
    "        \n",
    "        try: \n",
    "            #partition data as dataframe            \n",
    "            filename = '{}/hdst_{}_{}_v0.9.7-19-g574c657_20180710_krth1300.h5'.format(directory, part, run)\n",
    "        \n",
    "            with warnings.catch_warnings():\n",
    "                warnings.simplefilter(\"error\")\n",
    "                dst = ht.load_dst(filename, 'RECO', 'Events')\n",
    "                \n",
    "            #event search\n",
    "            ar1 = np.unique(dst['event'])\n",
    "            coinc = np.intersect1d(ar1, evts, True) #coincident events\n",
    "        \n",
    "            for event in coinc:\n",
    "                dst_ev   = dst[dst.event == event]\n",
    "                \n",
    "                dst_ev   .to_hdf(file, key = 'hdst'   , append = True)\n",
    "                \n",
    "                #this is useful if some of the coinc should be saved in a diferent chunk\n",
    "                evts = np.delete(evts, np.argwhere(evts == event))\n",
    "                \n",
    "                i+=1\n",
    "                print('Events saved in chunk {:02} of {:02}: {:03} %'.format(j, n_chunk-1\n",
    "                                                                              , int(i*100/n_ev)), end = '\\r')\n",
    "                if i >= n_ev: break\n",
    "                    \n",
    "            if i>= n_ev: break\n",
    "                \n",
    "        except UserWarning: continue \n",
    "    if len(evts)==0: break"
   ]
  },
  {
   "cell_type": "code",
   "execution_count": null,
   "metadata": {},
   "outputs": [],
   "source": []
  },
  {
   "cell_type": "code",
   "execution_count": null,
   "metadata": {},
   "outputs": [],
   "source": []
  },
  {
   "cell_type": "code",
   "execution_count": 47,
   "metadata": {},
   "outputs": [],
   "source": [
    "#READ (for comprobation purposes)\n",
    "file = 'Csphotopeak_hdst_{}_{}.h5'.format(run, 19)\n",
    "hdf = pd.HDFStore(file)"
   ]
  },
  {
   "cell_type": "code",
   "execution_count": 48,
   "metadata": {},
   "outputs": [],
   "source": [
    "df = hdf['hdst']"
   ]
  },
  {
   "cell_type": "code",
   "execution_count": null,
   "metadata": {},
   "outputs": [],
   "source": []
  },
  {
   "cell_type": "code",
   "execution_count": 49,
   "metadata": {},
   "outputs": [
    {
     "data": {
      "text/plain": [
       "1"
      ]
     },
     "execution_count": 49,
     "metadata": {},
     "output_type": "execute_result"
    }
   ],
   "source": [
    "len(np.intersect1d(np.unique(df['event']), cs_evt[20*n_ev:21*n_ev]))"
   ]
  },
  {
   "cell_type": "code",
   "execution_count": null,
   "metadata": {
    "scrolled": true
   },
   "outputs": [],
   "source": []
  },
  {
   "cell_type": "code",
   "execution_count": 50,
   "metadata": {},
   "outputs": [
    {
     "data": {
      "text/plain": [
       "array([1243309, 1244302, 1244443, 1245244, 1245326, 1245939, 1246785,\n",
       "       1247483, 1247520, 1247535, 1247623, 1247849, 1248473, 1248649,\n",
       "       1248783, 1248855, 1248922, 1249327, 1249366, 1249718, 1250069,\n",
       "       1250090, 1250370, 1250674, 1250898, 1252059, 1252832, 1253011,\n",
       "       1253206, 1253208, 1253278, 1253416, 1253538, 1253635, 1254155,\n",
       "       1254298, 1254562, 1254813, 1256008, 1256043, 1256384, 1257021,\n",
       "       1257024, 1257337, 1257427, 1257440, 1257690, 1258833, 1258858,\n",
       "       1259859, 1261092, 1261182, 1261226, 1261341, 1262185, 1263448,\n",
       "       1263505, 1264055, 1264582, 1265456, 1265541, 1265563, 1265920,\n",
       "       1266404, 1267148, 1267297, 1267607, 1267847, 1268014, 1268327,\n",
       "       1268669, 1268834, 1268970, 1270177, 1270205, 1271108, 1271113,\n",
       "       1271678, 1271696, 1271731, 1271745, 1271809, 1271845, 1272031,\n",
       "       1274130, 1275039, 1275461, 1275782, 1275885, 1276313, 1276777,\n",
       "       1276917, 1276923, 1276972, 1277321, 1277428, 1278230, 1278302,\n",
       "       1278306, 1278402, 1279270, 1279505, 1279508, 1279648, 1279878,\n",
       "       1279895, 1279982, 1280178, 1280562, 1280625, 1281329, 1281840,\n",
       "       1283090, 1283093, 1283342, 1283433, 1283579, 1283859, 1283866,\n",
       "       1283998, 1284206, 1284366, 1284627, 1284736, 1284951, 1284954,\n",
       "       1285465, 1286195, 1286284, 1286568, 1286586, 1286645, 1286782,\n",
       "       1287005, 1287109, 1287636, 1288579, 1288733, 1289536, 1289980,\n",
       "       1290230, 1290591, 1290955, 1291015, 1291237, 1291281, 1291426,\n",
       "       1291569, 1291916, 1291927, 1292051, 1292074, 1292121, 1292545,\n",
       "       1292796, 1293529, 1293669, 1293832, 1293860, 1293960, 1294042,\n",
       "       1294343, 1294955, 1295047, 1295622, 1295758, 1296051, 1296247,\n",
       "       1296504, 1296594, 1296631, 1296668, 1297066, 1297974, 1298340,\n",
       "       1298643, 1299068, 1299331, 1299402, 1299618, 1299986, 1300390,\n",
       "       1301218, 1301830, 1301958, 1302179, 1302371, 1302868, 1302883,\n",
       "       1302995, 1303680, 1303852, 1304899, 1305149, 1305196, 1305527,\n",
       "       1305609, 1305966, 1306415, 1306660], dtype=int32)"
      ]
     },
     "execution_count": 50,
     "metadata": {},
     "output_type": "execute_result"
    }
   ],
   "source": [
    "np.unique(df['event'])"
   ]
  },
  {
   "cell_type": "code",
   "execution_count": 46,
   "metadata": {},
   "outputs": [
    {
     "data": {
      "text/plain": [
       "array([1306660, 1306926, 1307507, 1307897, 1308007, 1308088, 1308339,\n",
       "       1308677, 1308820, 1308927, 1309077, 1309213, 1309488, 1310049,\n",
       "       1310770, 1311451, 1311607, 1311707, 1311774, 1311792, 1312068,\n",
       "       1312634, 1312694, 1313536, 1313554, 1314154, 1314409, 1314727,\n",
       "       1314962, 1315164, 1315444, 1315549, 1315582, 1315662, 1316084,\n",
       "       1316157, 1316210, 1316220, 1316308, 1316614, 1316622, 1316677,\n",
       "       1316726, 1317398, 1318497, 1318798, 1318985, 1319138, 1319379,\n",
       "       1319444, 1319577, 1320060, 1320092, 1320168, 1320416, 1320598,\n",
       "       1320846, 1320941, 1321365, 1321400, 1321658, 1322141, 1322168,\n",
       "       1322531, 1322660, 1322787, 1322852, 1323016, 1323032, 1323170,\n",
       "       1323281, 1324232, 1324236, 1324333, 1324365, 1324419, 1325337,\n",
       "       1325579, 1325644, 1325990, 1326047, 1327161, 1327325, 1327626,\n",
       "       1327740, 1328969, 1329057, 1329066, 1329853, 1329988, 1330216,\n",
       "       1330220, 1330496, 1330516, 1330621, 1330976, 1331042, 1331118,\n",
       "       1331139, 1331344, 1331428, 1331523, 1331673, 1331914, 1332561,\n",
       "       1332942, 1333304, 1333396, 1333987, 1334946, 1335040, 1335374,\n",
       "       1335393, 1335394, 1335945, 1336197, 1337092, 1337629, 1337809,\n",
       "       1338037, 1338338, 1338517, 1338763, 1338999, 1339633, 1339762,\n",
       "       1340136, 1340467, 1340484, 1340750, 1341268, 1341382, 1342205,\n",
       "       1342319, 1343115, 1343250, 1343369, 1343579, 1343823, 1344025,\n",
       "       1344297, 1344300, 1344835, 1345605, 1346731, 1347523, 1347793,\n",
       "       1348054, 1348304, 1348611, 1349225, 1349354, 1350005, 1350630,\n",
       "       1350634, 1350984, 1351608, 1352120, 1352142, 1352880, 1353045,\n",
       "       1353106, 1353108, 1353109, 1353632, 1354082, 1354283, 1354516,\n",
       "       1354834, 1355423, 1355461, 1355635, 1356257, 1356653, 1357344,\n",
       "       1357384, 1357678, 1357733, 1357884, 1357996, 1358620, 1359040,\n",
       "       1359150, 1359421, 1359503, 1359549, 1359635, 1359726, 1360074,\n",
       "       1360741, 1361058, 1361090, 1361230, 1361505, 1362136, 1362202,\n",
       "       1362213, 1362612, 1362964, 1363128])"
      ]
     },
     "execution_count": 46,
     "metadata": {},
     "output_type": "execute_result"
    }
   ],
   "source": [
    "cs_evt[20*n_ev:21*n_ev]"
   ]
  },
  {
   "cell_type": "code",
   "execution_count": null,
   "metadata": {},
   "outputs": [],
   "source": []
  }
 ],
 "metadata": {
  "kernelspec": {
   "display_name": "Python 3",
   "language": "python",
   "name": "python3"
  },
  "language_info": {
   "codemirror_mode": {
    "name": "ipython",
    "version": 3
   },
   "file_extension": ".py",
   "mimetype": "text/x-python",
   "name": "python",
   "nbconvert_exporter": "python",
   "pygments_lexer": "ipython3",
   "version": "3.6.6"
  }
 },
 "nbformat": 4,
 "nbformat_minor": 2
}
