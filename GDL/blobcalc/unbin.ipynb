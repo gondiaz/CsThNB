{
 "cells": [
  {
   "cell_type": "code",
   "execution_count": 1,
   "metadata": {},
   "outputs": [],
   "source": [
    "import numpy                as np\n",
    "import pandas               as pd\n",
    "import matplotlib.pyplot    as plt\n",
    "import matplotlib.patches  as patches\n",
    "import matplotlib.gridspec as gridspec\n",
    "\n",
    "from scipy                   import optimize\n",
    "from scipy.integrate         import quad\n",
    "from scipy.optimize          import minimize\n",
    "from scipy.optimize          import BFGS\n",
    "from scipy.optimize          import Bounds\n",
    "from scipy.optimize          import NonlinearConstraint\n",
    "from scipy.optimize.nonlin   import NoConvergence"
   ]
  },
  {
   "cell_type": "code",
   "execution_count": 2,
   "metadata": {},
   "outputs": [],
   "source": [
    "#typo='Tlds'\n",
    "#df = pd.HDFStore(f'../corrections_6206_{typo}.h5')['/edf']\n",
    "\n",
    "#Emax, Emin = 430e3, 380e3\n",
    "#edf = df[(df.e<Emax) & (df.e>Emin) & (df.peak==0)]\n",
    "#E = np.array(edf['e'])\n",
    "#E.sort()\n",
    "#len(E)"
   ]
  },
  {
   "cell_type": "code",
   "execution_count": 3,
   "metadata": {},
   "outputs": [],
   "source": [
    "#n = 10\n",
    "#E = np.array([E[n*i] for i in range(0, int(len(E)/n))])\n",
    "#len(E)"
   ]
  },
  {
   "cell_type": "code",
   "execution_count": 4,
   "metadata": {},
   "outputs": [],
   "source": [
    "#plt.hist(E, bins=100);"
   ]
  },
  {
   "cell_type": "markdown",
   "metadata": {},
   "source": [
    "## DATA PRODUCTION"
   ]
  },
  {
   "cell_type": "markdown",
   "metadata": {},
   "source": [
    "$$f(E)= f f_s(E| E_{ph}, \\sigma) + (1-f) f_b(E|m)$$\n",
    "\n",
    "\n",
    "$$f_s(E|E_{ph},\\sigma) = A(E_{ph}, \\sigma) e^{-(E-E_{ph})^2/(2\\sigma^2)}$$\n",
    "\n",
    "$$f_b(E|m) = m(E-c) + r$$\n",
    "\n",
    "$$c = \\frac{E_a+E_b}{2}$$\n",
    "\n",
    "$$r = \\frac{1}{(E_b-E_a)}$$\n",
    "\n",
    "$$m ~ [-2/(b-a)^2, 2/(b-a)^2] $$"
   ]
  },
  {
   "cell_type": "code",
   "execution_count": 2,
   "metadata": {},
   "outputs": [],
   "source": [
    "def p(E):\n",
    "    return f*ps(E)+ (1-f)*pb(E)\n",
    "\n",
    "def ps(E):\n",
    "    A,_ = quad(gauss, Ea, Eb, args=(Eph, sig))\n",
    "    return gauss(E, Eph, sig)/A\n",
    "\n",
    "def gauss(E, Eph, sig):\n",
    "    return np.e**(-(E-Eph)**2/(2*sig**2))\n",
    "\n",
    "def pb(E):\n",
    "    return m*E + c(m)\n",
    "\n",
    "def c(m):\n",
    "    return (1-0.5*m*(Eb**2-Ea**2))/(Eb-Ea)\n",
    "\n",
    "def P(E):\n",
    "    Ps, _ = quad(ps, Ea, E)\n",
    "    return f* Ps + (1-f)*0.5*m*(E**2-Ea**2) + (1-f)*c(m)*(E-Ea)"
   ]
  },
  {
   "cell_type": "code",
   "execution_count": 3,
   "metadata": {},
   "outputs": [],
   "source": [
    "# REGION AND PARAMETERS DEFINITION\n",
    "\n",
    "Ea, Eb = 380e3, 430e3\n",
    "f, Eph, sig, m = 0.5, 400e3, 3e3, -0.5e-9"
   ]
  },
  {
   "cell_type": "code",
   "execution_count": 4,
   "metadata": {},
   "outputs": [
    {
     "data": {
      "image/png": "[encoded data removed]",
      "text/plain": [
       "<Figure size 432x288 with 1 Axes>"
      ]
     },
     "metadata": {
      "needs_background": "light"
     },
     "output_type": "display_data"
    }
   ],
   "source": [
    "E =np.linspace(Ea, Eb, int(1e5))\n",
    "plt.plot(E, p(E));"
   ]
  },
  {
   "cell_type": "code",
   "execution_count": 5,
   "metadata": {},
   "outputs": [],
   "source": [
    "def rand_lin(a, b, m, size=100):\n",
    "    '''returns random number linearly distributed'''\n",
    "    E=[]\n",
    "    i=0\n",
    "    while i<size:\n",
    "        F =np.random.random()\n",
    "        #E1 = -c(m)/m + ((c(m)/m)**2+2/m*(F+a*(c(m)+0.5*m*a)))**0.5\n",
    "        E2 = -c(m)/m - ((c(m)/m)**2+2/m*(F+a*(c(m)+0.5*m*a)))**0.5\n",
    "        E.append(E2)\n",
    "        i+=1\n",
    "    E = np.array(E)\n",
    "    return E"
   ]
  },
  {
   "cell_type": "code",
   "execution_count": 6,
   "metadata": {
    "scrolled": true
   },
   "outputs": [
    {
     "name": "stdout",
     "output_type": "stream",
     "text": [
      "| niter |f evals|CG iter|  obj func   |tr radius |   opt    |  c viol  | penalty  |barrier param|CG stop|\n",
      "|-------|-------|-------|-------------|----------|----------|----------|----------|-------------|-------|\n",
      "|   1   |   1   |   0   | +1.0852e+04 | 1.00e+00 | 6.10e-05 | 0.00e+00 | 1.00e-03 |  1.00e-01   |   0   |\n",
      "|   2   |   2   |   1   | +1.0838e+04 | 7.00e+00 | 6.10e-05 | 0.00e+00 | 1.00e-03 |  1.00e-01   |   2   |\n",
      "|   3   |   3   |   2   | +1.0766e+04 | 4.90e+01 | 3.05e-05 | 0.00e+00 | 1.00e-03 |  1.00e-01   |   2   |\n",
      "|   4   |   4   |   3   | +1.0737e+04 | 4.90e+01 | 2.10e-05 | 0.00e+00 | 1.00e-03 |  1.00e-01   |   1   |\n",
      "|   5   |   4   |   3   | +1.0737e+04 | 2.45e+02 | 1.91e-06 | 0.00e+00 | 1.00e-03 |  2.00e-02   |   0   |\n",
      "|   6   |   5   |   4   | +1.0737e+04 | 2.45e+02 | 2.86e-06 | 0.00e+00 | 1.00e-03 |  2.00e-02   |   1   |\n",
      "|   7   |   6   |   5   | +1.0737e+04 | 2.45e+02 | 7.57e-06 | 0.00e+00 | 1.00e-03 |  2.00e-02   |   1   |\n",
      "|   8   |   6   |   5   | +1.0737e+04 | 1.22e+03 | 1.46e-06 | 0.00e+00 | 1.00e-03 |  4.00e-03   |   0   |\n",
      "|   9   |   6   |   5   | +1.0737e+04 | 6.12e+03 | 1.19e-07 | 0.00e+00 | 1.00e-03 |  8.00e-04   |   0   |\n",
      "|  10   |   6   |   5   | +1.0737e+04 | 3.06e+04 | 5.66e-13 | 0.00e+00 | 1.00e-03 |  1.60e-04   |   0   |\n",
      "\n",
      "`gtol` termination condition is satisfied.\n",
      "Number of iterations: 10, function evaluations: 6, CG iterations: 5, optimality: 5.66e-13, constraint violation: 0.00e+00, execution time:  2.4 s.\n"
     ]
    }
   ],
   "source": [
    "E = rand_lin(Ea, Eb, m, size=1000)\n",
    "Emin, Emax = Ea, Eb\n",
    "\n",
    "def likelihood(x):\n",
    "    m = x\n",
    "    p = fb(x)\n",
    "    \n",
    "    if (p>=0).all():\n",
    "        return -np.log(p).sum()\n",
    "    else: print(x)\n",
    "    #    return np.inf\n",
    "\n",
    "def jac_lik(x):\n",
    "    m = x\n",
    "    p = fb(x)\n",
    "    mb         = jac_b(x)\n",
    "    mder   = -(mb     /p).sum()\n",
    "    return np.array([mder])\n",
    "\n",
    "def fb(x):  \n",
    "    m = x\n",
    "    ct = c(m)\n",
    "    return m*E + ct\n",
    "\n",
    "def c(m):\n",
    "    return (1-0.5*m*(Emax**2-Emin**2))/(Emax-Emin)\n",
    "\n",
    "def jac_b(x):\n",
    "    mder = E - 0.5*(Emax**2-Emin**2)/(Emax-Emin)\n",
    "    return mder\n",
    "########################################\n",
    "########################################\n",
    "#########################################\n",
    "def fb_constr(x):\n",
    "    m = x\n",
    "    ct = c(m)\n",
    "    return m*E + ct\n",
    "\n",
    "def jac_b_constr(x):\n",
    "    return np.array([E - 0.5*(Emax**2-Emin**2)/(Emax-Emin)]).T\n",
    "\n",
    "def hess_constr(x, v):\n",
    "    return 0\n",
    "\n",
    "\n",
    "# trust-constr algorithm\n",
    "\n",
    "lb = [-1]\n",
    "ub = [ 1]\n",
    "\n",
    "bounds = Bounds(lb, ub, keep_feasible=True)\n",
    "x0     = np.array([1e-10])\n",
    "\n",
    "ub_b = np.inf*np.ones(len(E))\n",
    "lb_b = np.zeros(len(E))\n",
    "\n",
    "constraints = [NonlinearConstraint(fb_constr, lb_b, ub_b, jac=jac_b_constr, hess=hess_constr, keep_feasible=True)]\n",
    "\n",
    "res = minimize(likelihood, x0,\n",
    "               method = 'trust-constr',\n",
    "               options={'disp':True, 'verbose':3, 'maxiter':1000, 'initial_tr_radius':1,\n",
    "                        'gtol':1e-8, 'xtol':1e-8, 'barrier_tol': 1e-8,\n",
    "                        'initial_constr_penalty':1e-3, 'gtol':1e-8, 'xtol':1e-5},\n",
    "               jac   = jac_lik,\n",
    "               hess  = BFGS(),\n",
    "               constraints=constraints,\n",
    "               bounds=bounds)"
   ]
  },
  {
   "cell_type": "code",
   "execution_count": 7,
   "metadata": {},
   "outputs": [
    {
     "data": {
      "text/plain": [
       "[<matplotlib.lines.Line2D at 0x7f216cdcc198>]"
      ]
     },
     "execution_count": 7,
     "metadata": {},
     "output_type": "execute_result"
    },
    {
     "data": {
      "image/png": "[encoded data removed]",
      "text/plain": [
       "<Figure size 432x288 with 1 Axes>"
      ]
     },
     "metadata": {
      "needs_background": "light"
     },
     "output_type": "display_data"
    }
   ],
   "source": [
    "E.sort()\n",
    "plt.hist(E, bins=100, density=True, alpha=0.5);\n",
    "plt.plot(E, pb(E), c='b');\n",
    "plt.plot(E, fb(res.x), c='r')"
   ]
  },
  {
   "cell_type": "code",
   "execution_count": 8,
   "metadata": {
    "scrolled": true
   },
   "outputs": [
    {
     "name": "stdout",
     "output_type": "stream",
     "text": [
      "| niter |f evals|CG iter|  obj func   |tr radius |   opt    |  c viol  | penalty  |barrier param|CG stop|\n",
      "|-------|-------|-------|-------------|----------|----------|----------|----------|-------------|-------|\n",
      "|   1   |   1   |   0   | +1.0161e+04 | 1.00e+00 | 1.25e+00 | 0.00e+00 | 1.00e-03 |  1.00e-01   |   0   |\n",
      "|   2   |   2   |   1   | +1.0160e+04 | 4.82e+00 | 1.25e+00 | 0.00e+00 | 1.00e-03 |  1.00e-01   |   4   |\n",
      "|   3   |   3   |   2   | +1.0154e+04 | 3.37e+01 | 1.23e+00 | 0.00e+00 | 1.00e-03 |  1.00e-01   |   2   |\n",
      "|   4   |   4   |   3   | +1.0114e+04 | 2.36e+02 | 1.16e+00 | 0.00e+00 | 1.00e-03 |  1.00e-01   |   2   |\n",
      "|   5   |   5   |   4   | +9.8901e+03 | 1.65e+03 | 7.34e-01 | 0.00e+00 | 1.00e-03 |  1.00e-01   |   2   |\n",
      "|   6   |   6   |   6   | +9.6756e+03 | 2.63e+03 | 3.52e-01 | 0.00e+00 | 1.00e-03 |  1.00e-01   |   1   |\n",
      "|   7   |   7   |   7   | +9.5717e+03 | 2.63e+03 | 2.07e-01 | 0.00e+00 | 1.00e-03 |  1.00e-01   |   4   |\n",
      "|   8   |   8   |   9   | +9.5189e+03 | 2.63e+03 | 1.57e-01 | 0.00e+00 | 1.00e-03 |  1.00e-01   |   1   |\n",
      "|   9   |   9   |  11   | +9.4911e+03 | 2.63e+03 | 1.23e-01 | 0.00e+00 | 1.00e-03 |  1.00e-01   |   1   |\n",
      "|  10   |  10   |  13   | +9.4628e+03 | 3.08e+03 | 7.08e-02 | 0.00e+00 | 1.00e-03 |  1.00e-01   |   1   |\n",
      "|  11   |  10   |  13   | +9.4628e+03 | 1.54e+04 | 6.57e-02 | 0.00e+00 | 1.00e-03 |  2.00e-02   |   0   |\n",
      "|  12   |  11   |  15   | +9.4567e+03 | 1.54e+04 | 6.33e-02 | 0.00e+00 | 1.00e-03 |  2.00e-02   |   1   |\n",
      "|  13   |  12   |  16   | +9.4535e+03 | 1.54e+04 | 5.99e-02 | 0.00e+00 | 1.00e-03 |  2.00e-02   |   4   |\n",
      "|  14   |  13   |  17   | +9.4294e+03 | 1.54e+04 | 2.17e-02 | 0.00e+00 | 1.00e-03 |  2.00e-02   |   4   |\n",
      "|  15   |  14   |  19   | +9.4273e+03 | 1.54e+04 | 3.42e-03 | 0.00e+00 | 1.00e-03 |  2.00e-02   |   1   |\n",
      "|  16   |  14   |  19   | +9.4273e+03 | 7.70e+04 | 3.37e-03 | 0.00e+00 | 1.00e-03 |  4.00e-03   |   0   |\n",
      "|  17   |  14   |  19   | +9.4273e+03 | 3.85e+05 | 3.36e-03 | 0.00e+00 | 1.00e-03 |  8.00e-04   |   0   |\n",
      "|  18   |  15   |  20   | +9.4273e+03 | 3.85e+05 | 3.50e-04 | 0.00e+00 | 1.00e-03 |  8.00e-04   |   4   |\n",
      "|  19   |  15   |  20   | +9.4273e+03 | 1.93e+06 | 3.50e-04 | 0.00e+00 | 1.00e-03 |  1.60e-04   |   0   |\n",
      "|  20   |  16   |  21   | +9.4273e+03 | 1.93e+06 | 1.66e-04 | 0.00e+00 | 1.00e-03 |  1.60e-04   |   4   |\n",
      "|  21   |  17   |  22   | +9.4273e+03 | 1.93e+06 | 1.66e-05 | 0.00e+00 | 1.00e-03 |  1.60e-04   |   4   |\n",
      "|  22   |  17   |  22   | +9.4273e+03 | 9.63e+06 | 1.65e-05 | 0.00e+00 | 1.00e-03 |  3.20e-05   |   0   |\n",
      "|  23   |  17   |  22   | +9.4273e+03 | 4.81e+07 | 1.65e-05 | 0.00e+00 | 1.00e-03 |  6.40e-06   |   0   |\n",
      "|  24   |  18   |  23   | +9.4273e+03 | 4.81e+07 | 1.48e-06 | 0.00e+00 | 1.00e-03 |  6.40e-06   |   4   |\n",
      "|  25   |  18   |  23   | +9.4273e+03 | 2.41e+08 | 1.49e-06 | 0.00e+00 | 1.00e-03 |  1.28e-06   |   0   |\n",
      "|  26   |  19   |  24   | +9.4273e+03 | 2.41e+08 | 2.91e-08 | 0.00e+00 | 1.00e-03 |  1.28e-06   |   4   |\n",
      "|  27   |  19   |  24   | +9.4273e+03 | 1.20e+09 | 2.91e-08 | 0.00e+00 | 1.00e-03 |  2.56e-07   |   0   |\n",
      "|  28   |  19   |  24   | +9.4273e+03 | 6.02e+09 | 2.91e-08 | 0.00e+00 | 1.00e-03 |  5.12e-08   |   0   |\n",
      "|  29   |  19   |  24   | +9.4273e+03 | 3.01e+10 | 2.91e-08 | 0.00e+00 | 1.00e-03 |  1.02e-08   |   0   |\n",
      "|  30   |  20   |  26   | +9.4273e+03 | 3.01e+10 | 8.00e-11 | 0.00e+00 | 1.00e-03 |  1.02e-08   |   1   |\n",
      "\n",
      "`gtol` termination condition is satisfied.\n",
      "Number of iterations: 30, function evaluations: 20, CG iterations: 26, optimality: 8.00e-11, constraint violation: 0.00e+00, execution time:  7.5 s.\n"
     ]
    }
   ],
   "source": [
    "E = np.random.normal(Eph, sig, size=1000)\n",
    "\n",
    "def likelihood(x):\n",
    "    p = fs(x)\n",
    "    \n",
    "    if (p>=0).all():\n",
    "        return -np.log(p).sum()\n",
    "    else: print(x)\n",
    "    #    return np.inf\n",
    "\n",
    "def jac_lik(x):\n",
    "    p = fs(x)\n",
    "    \n",
    "    Ephs, sigs = jac_s(x)\n",
    "\n",
    "    Ephder = -(Ephs   /p).sum()\n",
    "    sigder = -(sigs   /p).sum()\n",
    "    return np.array([Ephder, sigder])\n",
    "\n",
    "def fs(x):\n",
    "    Eph, sig = x\n",
    "    A, _ = quad(gauss, Emin, Emax, args=(Eph, sig))\n",
    "    return (1/A)*gauss(E, Eph, sig)\n",
    "\n",
    "def gauss(E, Eph, sig):\n",
    "    return np.e**(-(E-Eph)**2/(2*sig**2))\n",
    "\n",
    "def jac_s(x):\n",
    "    Eph, sig= x\n",
    "    \n",
    "    Ephder = fs(x)*(E-Eph)/sig**2\n",
    "    sigder = fs(x)*(-1/sig + (E-Eph)**2/sig**3)\n",
    "    \n",
    "    return np.array([Ephder, sigder])\n",
    "\n",
    "###################################\n",
    "##################################\n",
    "\n",
    "# trust-constr algorithm\n",
    "\n",
    "lb = [Emin, 0     ]\n",
    "ub = [Emax, np.inf]\n",
    "\n",
    "bounds = Bounds(lb, ub, keep_feasible=True)\n",
    "x0     = np.array([402e3, 2e3])\n",
    "\n",
    "ub_b = np.inf*np.ones(len(E))\n",
    "lb_b = np.zeros(len(E))\n",
    "\n",
    "constraints = [NonlinearConstraint(fs, lb_b, ub_b, keep_feasible=True)]\n",
    "\n",
    "res = minimize(likelihood, x0,\n",
    "               method = 'trust-constr',\n",
    "               options={'disp':True, 'verbose':3, 'maxiter':10000, 'initial_tr_radius':1,\n",
    "                        'gtol':1e-8, 'xtol':1e-8, 'barrier_tol': 1e-8,\n",
    "                        'initial_constr_penalty':1e-3, 'gtol':1e-8, 'xtol':1e-5},\n",
    "               jac   = jac_lik,\n",
    "               hess  = BFGS(),\n",
    "               constraints=constraints,\n",
    "               bounds=bounds)"
   ]
  },
  {
   "cell_type": "code",
   "execution_count": 9,
   "metadata": {},
   "outputs": [
    {
     "data": {
      "text/plain": [
       "[<matplotlib.lines.Line2D at 0x7f216cb06b38>]"
      ]
     },
     "execution_count": 9,
     "metadata": {},
     "output_type": "execute_result"
    },
    {
     "data": {
      "image/png": "[encoded data removed]",
      "text/plain": [
       "<Figure size 432x288 with 1 Axes>"
      ]
     },
     "metadata": {
      "needs_background": "light"
     },
     "output_type": "display_data"
    }
   ],
   "source": [
    "E.sort()\n",
    "plt.hist(E, bins=100, density=True, alpha=0.5);\n",
    "plt.plot(E, ps(E), c='b');\n",
    "plt.plot(E, fs(res.x), c='r')"
   ]
  },
  {
   "cell_type": "code",
   "execution_count": null,
   "metadata": {},
   "outputs": [],
   "source": []
  },
  {
   "cell_type": "code",
   "execution_count": null,
   "metadata": {},
   "outputs": [],
   "source": []
  },
  {
   "cell_type": "code",
   "execution_count": null,
   "metadata": {},
   "outputs": [],
   "source": []
  },
  {
   "cell_type": "code",
   "execution_count": 11,
   "metadata": {},
   "outputs": [],
   "source": [
    "n=1e4\n",
    "\n",
    "Ebk = rand_lin(Ea, Eb, m, size=(1-f)*n)\n",
    "Esg = np.random.normal(Eph, sig, size=int(f*n))\n",
    "\n",
    "E=np.array([*Ebk, *Esg])\n",
    "E.sort()"
   ]
  },
  {
   "cell_type": "code",
   "execution_count": 12,
   "metadata": {},
   "outputs": [
    {
     "data": {
      "image/png": "[encoded data removed]",
      "text/plain": [
       "<Figure size 432x288 with 1 Axes>"
      ]
     },
     "metadata": {
      "needs_background": "light"
     },
     "output_type": "display_data"
    }
   ],
   "source": [
    "plt.hist(E, bins=100, density=True);\n",
    "x = [f, Eph, sig, m]\n",
    "plt.plot(E, f*ps(E)+(1-f)*pb(E), c='r');"
   ]
  },
  {
   "cell_type": "code",
   "execution_count": 13,
   "metadata": {},
   "outputs": [
    {
     "data": {
      "text/plain": [
       "10000"
      ]
     },
     "execution_count": 13,
     "metadata": {},
     "output_type": "execute_result"
    }
   ],
   "source": [
    "len(E)"
   ]
  },
  {
   "cell_type": "code",
   "execution_count": 14,
   "metadata": {},
   "outputs": [
    {
     "data": {
      "text/plain": [
       "1000"
      ]
     },
     "execution_count": 14,
     "metadata": {},
     "output_type": "execute_result"
    }
   ],
   "source": [
    "n = 10\n",
    "E = np.array([E[n*i] for i in range(0, int(len(E)/n))])\n",
    "len(E)"
   ]
  },
  {
   "cell_type": "code",
   "execution_count": 15,
   "metadata": {},
   "outputs": [
    {
     "data": {
      "image/png": "[encoded data removed]",
      "text/plain": [
       "<Figure size 432x288 with 1 Axes>"
      ]
     },
     "metadata": {
      "needs_background": "light"
     },
     "output_type": "display_data"
    }
   ],
   "source": [
    "E.sort()\n",
    "plt.hist(E, bins=100, density=True);\n",
    "x = [f, Eph, sig, m]\n",
    "plt.plot(E, f*ps(E)+(1-f)*pb(E), c='r');"
   ]
  },
  {
   "cell_type": "code",
   "execution_count": 16,
   "metadata": {},
   "outputs": [],
   "source": [
    "Emin, Emax = Ea, Eb"
   ]
  },
  {
   "cell_type": "markdown",
   "metadata": {},
   "source": [
    "## EXTENDED LIKELIHOOD METHOD"
   ]
  },
  {
   "cell_type": "code",
   "execution_count": 17,
   "metadata": {},
   "outputs": [],
   "source": [
    "def likelihood(x):\n",
    "    f = x[0]\n",
    "    p = f*fs(x) + (1-f)*fb(x)\n",
    "    \n",
    "    if (p>=0).all():\n",
    "        return -np.log(p).sum()\n",
    "    else: print(x)\n",
    "    #    return np.inf\n",
    "\n",
    "def jac_lik(x):\n",
    "    f = x[0]\n",
    "    p = f*fs(x) + (1-f)*fb(x)\n",
    "    \n",
    "    Ephs, sigs = jac_s(x)\n",
    "    mb         = jac_b(x)\n",
    "    \n",
    "    fder   = -((fs(x)-fb(x))/p).sum()\n",
    "    Ephder = -(f    *Ephs   /p).sum()\n",
    "    sigder = -(f    *sigs   /p).sum()\n",
    "    mder   = -((1-f)*mb     /p).sum()\n",
    "    \n",
    "    return np.array([fder, Ephder, sigder, mder])\n",
    "\n",
    "def fs(x):\n",
    "    f, Eph, sig,_ = x\n",
    "    A, _ = quad(gauss, Emin, Emax, args=(Eph, sig))\n",
    "    return (1/A)*gauss(E, Eph, sig)\n",
    "\n",
    "def gauss(E, Eph, sig):\n",
    "    return np.e**(-(E-Eph)**2/(2*sig**2))\n",
    "\n",
    "def jac_s(x):\n",
    "    f, Eph, sig,_ = x\n",
    "    \n",
    "    Ephder = fs(x)*(E-Eph)/sig**2\n",
    "    sigder = fs(x)*(-1/sig + (E-Eph)**2/sig**3)\n",
    "    \n",
    "    return np.array([Ephder, sigder])\n",
    "     \n",
    "def fb(x):  \n",
    "    f, Eph, sig, m = x\n",
    "    #m=m*1e-9\n",
    "    ct = c(m)\n",
    "    return m*E + ct\n",
    "\n",
    "def c(m):\n",
    "    return (1-0.5*m*(Emax**2-Emin**2))/(Emax-Emin)\n",
    "\n",
    "def jac_b(x):\n",
    "    mder = E - 0.5*(Emax**2-Emin**2)/(Emax-Emin)\n",
    "    return mder\n",
    "########################################\n",
    "########################################\n",
    "#########################################\n",
    "def fb_constr(x):\n",
    "    f, Eph, sig, m = x\n",
    "    #m=m*1e-9\n",
    "    ct = c(m)\n",
    "    return m*E + ct\n",
    "\n",
    "def jac_b_constr(x):\n",
    "    return np.array([np.zeros(len(E)), np.zeros(len(E)), np.zeros(len(E)), E - 0.5*(Emax**2-Emin**2)/(Emax-Emin)]).T\n",
    "\n",
    "def hess_constr(x, v):\n",
    "    return np.zeros([4,4])"
   ]
  },
  {
   "cell_type": "code",
   "execution_count": 18,
   "metadata": {},
   "outputs": [
    {
     "data": {
      "text/plain": [
       "True"
      ]
     },
     "execution_count": 18,
     "metadata": {},
     "output_type": "execute_result"
    }
   ],
   "source": [
    "(fb([0.5, 400e3, 3e3, -0.5e-9])>0).all()"
   ]
  },
  {
   "cell_type": "code",
   "execution_count": 19,
   "metadata": {
    "scrolled": true
   },
   "outputs": [
    {
     "name": "stdout",
     "output_type": "stream",
     "text": [
      "| niter |f evals|CG iter|  obj func   |tr radius |   opt    |  c viol  | penalty  |barrier param|CG stop|\n",
      "|-------|-------|-------|-------------|----------|----------|----------|----------|-------------|-------|\n",
      "|   1   |   1   |   0   | +1.0436e+04 | 1.00e+00 | 2.53e+00 | 0.00e+00 | 1.00e-03 |  1.00e-01   |   0   |\n",
      "|   2   |   2   |   1   | +1.0436e+04 | 1.00e-01 | 2.53e+00 | 0.00e+00 | 1.00e-03 |  1.00e-01   |   2   |\n",
      "|   3   |   3   |   2   | +1.0436e+04 | 1.00e-02 | 2.53e+00 | 0.00e+00 | 1.00e-03 |  1.00e-01   |   4   |\n",
      "|   4   |   3   |   3   | +1.0436e+04 | 1.00e-03 | 2.53e+00 | 0.00e+00 | 1.00e-03 |  1.00e-01   |   4   |\n",
      "|   5   |   3   |   4   | +1.0436e+04 | 1.00e-04 | 2.53e+00 | 0.00e+00 | 1.00e-03 |  1.00e-01   |   4   |\n",
      "|   6   |   3   |   5   | +1.0436e+04 | 1.00e-05 | 2.53e+00 | 0.00e+00 | 1.00e-03 |  1.00e-01   |   4   |\n",
      "|   7   |   3   |   6   | +1.0436e+04 | 1.00e-06 | 2.53e+00 | 0.00e+00 | 1.00e-03 |  1.00e-01   |   4   |\n",
      "|   8   |   3   |   6   | +1.0436e+04 | 1.00e+00 | 2.53e+00 | 0.00e+00 | 1.00e-03 |  2.00e-02   |   0   |\n",
      "|   9   |   3   |   7   | +1.0436e+04 | 1.00e-01 | 2.53e+00 | 0.00e+00 | 1.00e-03 |  2.00e-02   |   4   |\n",
      "|  10   |   3   |   8   | +1.0436e+04 | 1.00e-02 | 2.53e+00 | 0.00e+00 | 1.00e-03 |  2.00e-02   |   4   |\n",
      "|  11   |   3   |   9   | +1.0436e+04 | 1.00e-03 | 2.53e+00 | 0.00e+00 | 1.00e-03 |  2.00e-02   |   4   |\n",
      "|  12   |   3   |  10   | +1.0436e+04 | 1.00e-04 | 2.53e+00 | 0.00e+00 | 1.00e-03 |  2.00e-02   |   4   |\n",
      "|  13   |   3   |  11   | +1.0436e+04 | 1.00e-05 | 2.53e+00 | 0.00e+00 | 1.00e-03 |  2.00e-02   |   4   |\n",
      "|  14   |   3   |  12   | +1.0436e+04 | 1.00e-06 | 2.53e+00 | 0.00e+00 | 1.00e-03 |  2.00e-02   |   4   |\n",
      "|  15   |   3   |  12   | +1.0436e+04 | 1.00e+00 | 2.53e+00 | 0.00e+00 | 1.00e-03 |  4.00e-03   |   0   |\n",
      "|  16   |   3   |  13   | +1.0436e+04 | 1.00e-01 | 2.53e+00 | 0.00e+00 | 1.00e-03 |  4.00e-03   |   4   |\n",
      "|  17   |   3   |  14   | +1.0436e+04 | 1.00e-02 | 2.53e+00 | 0.00e+00 | 1.00e-03 |  4.00e-03   |   4   |\n",
      "|  18   |   3   |  15   | +1.0436e+04 | 1.00e-03 | 2.53e+00 | 0.00e+00 | 1.00e-03 |  4.00e-03   |   4   |\n",
      "|  19   |   3   |  16   | +1.0436e+04 | 1.00e-04 | 2.53e+00 | 0.00e+00 | 1.00e-03 |  4.00e-03   |   4   |\n",
      "|  20   |   3   |  17   | +1.0436e+04 | 1.00e-05 | 2.53e+00 | 0.00e+00 | 1.00e-03 |  4.00e-03   |   4   |\n",
      "|  21   |   3   |  18   | +1.0436e+04 | 1.00e-06 | 2.53e+00 | 0.00e+00 | 1.00e-03 |  4.00e-03   |   4   |\n",
      "|  22   |   3   |  18   | +1.0436e+04 | 1.00e+00 | 2.53e+00 | 0.00e+00 | 1.00e-03 |  8.00e-04   |   0   |\n",
      "|  23   |   3   |  19   | +1.0436e+04 | 1.00e-01 | 2.53e+00 | 0.00e+00 | 1.00e-03 |  8.00e-04   |   4   |\n",
      "|  24   |   3   |  20   | +1.0436e+04 | 1.00e-02 | 2.53e+00 | 0.00e+00 | 1.00e-03 |  8.00e-04   |   4   |\n",
      "|  25   |   3   |  21   | +1.0436e+04 | 1.00e-03 | 2.53e+00 | 0.00e+00 | 1.00e-03 |  8.00e-04   |   4   |\n",
      "|  26   |   3   |  22   | +1.0436e+04 | 1.00e-04 | 2.53e+00 | 0.00e+00 | 1.00e-03 |  8.00e-04   |   4   |\n",
      "|  27   |   3   |  23   | +1.0436e+04 | 1.00e-05 | 2.53e+00 | 0.00e+00 | 1.00e-03 |  8.00e-04   |   4   |\n",
      "|  28   |   3   |  24   | +1.0436e+04 | 1.00e-06 | 2.53e+00 | 0.00e+00 | 1.00e-03 |  8.00e-04   |   4   |\n",
      "|  29   |   3   |  24   | +1.0436e+04 | 1.00e+00 | 2.53e+00 | 0.00e+00 | 1.00e-03 |  1.60e-04   |   0   |\n",
      "|  30   |   3   |  25   | +1.0436e+04 | 1.00e-01 | 2.53e+00 | 0.00e+00 | 1.00e-03 |  1.60e-04   |   4   |\n",
      "|  31   |   3   |  26   | +1.0436e+04 | 1.00e-02 | 2.53e+00 | 0.00e+00 | 1.00e-03 |  1.60e-04   |   4   |\n",
      "|  32   |   3   |  27   | +1.0436e+04 | 1.00e-03 | 2.53e+00 | 0.00e+00 | 1.00e-03 |  1.60e-04   |   4   |\n",
      "|  33   |   3   |  28   | +1.0436e+04 | 1.00e-04 | 2.53e+00 | 0.00e+00 | 1.00e-03 |  1.60e-04   |   4   |\n",
      "|  34   |   3   |  29   | +1.0436e+04 | 1.00e-05 | 2.53e+00 | 0.00e+00 | 1.00e-03 |  1.60e-04   |   4   |\n",
      "|  35   |   3   |  30   | +1.0436e+04 | 1.00e-06 | 2.53e+00 | 0.00e+00 | 1.00e-03 |  1.60e-04   |   4   |\n",
      "|  36   |   3   |  30   | +1.0436e+04 | 1.00e+00 | 2.53e+00 | 0.00e+00 | 1.00e-03 |  3.20e-05   |   0   |\n",
      "|  37   |   3   |  31   | +1.0436e+04 | 1.00e-01 | 2.53e+00 | 0.00e+00 | 1.00e-03 |  3.20e-05   |   4   |\n",
      "|  38   |   3   |  32   | +1.0436e+04 | 1.00e-02 | 2.53e+00 | 0.00e+00 | 1.00e-03 |  3.20e-05   |   4   |\n",
      "|  39   |   3   |  33   | +1.0436e+04 | 1.00e-03 | 2.53e+00 | 0.00e+00 | 1.00e-03 |  3.20e-05   |   4   |\n",
      "|  40   |   3   |  34   | +1.0436e+04 | 1.00e-04 | 2.53e+00 | 0.00e+00 | 1.00e-03 |  3.20e-05   |   4   |\n",
      "|  41   |   3   |  35   | +1.0436e+04 | 1.00e-05 | 2.53e+00 | 0.00e+00 | 1.00e-03 |  3.20e-05   |   4   |\n",
      "|  42   |   3   |  36   | +1.0436e+04 | 1.00e-06 | 2.53e+00 | 0.00e+00 | 1.00e-03 |  3.20e-05   |   4   |\n",
      "|  43   |   3   |  36   | +1.0436e+04 | 1.00e+00 | 2.53e+00 | 0.00e+00 | 1.00e-03 |  6.40e-06   |   0   |\n",
      "|  44   |   3   |  37   | +1.0436e+04 | 1.00e-01 | 2.53e+00 | 0.00e+00 | 1.00e-03 |  6.40e-06   |   4   |\n",
      "|  45   |   3   |  38   | +1.0436e+04 | 1.00e-02 | 2.53e+00 | 0.00e+00 | 1.00e-03 |  6.40e-06   |   4   |\n",
      "|  46   |   3   |  39   | +1.0436e+04 | 1.00e-03 | 2.53e+00 | 0.00e+00 | 1.00e-03 |  6.40e-06   |   4   |\n",
      "|  47   |   3   |  40   | +1.0436e+04 | 1.00e-04 | 2.53e+00 | 0.00e+00 | 1.00e-03 |  6.40e-06   |   4   |\n",
      "|  48   |   3   |  41   | +1.0436e+04 | 1.00e-05 | 2.53e+00 | 0.00e+00 | 1.00e-03 |  6.40e-06   |   4   |\n",
      "|  49   |   3   |  42   | +1.0436e+04 | 1.00e-06 | 2.53e+00 | 0.00e+00 | 1.00e-03 |  6.40e-06   |   4   |\n",
      "|  50   |   3   |  42   | +1.0436e+04 | 1.00e+00 | 2.53e+00 | 0.00e+00 | 1.00e-03 |  1.28e-06   |   0   |\n",
      "|  51   |   3   |  43   | +1.0436e+04 | 1.00e-01 | 2.53e+00 | 0.00e+00 | 1.00e-03 |  1.28e-06   |   4   |\n",
      "|  52   |   3   |  44   | +1.0436e+04 | 1.00e-02 | 2.53e+00 | 0.00e+00 | 1.00e-03 |  1.28e-06   |   4   |\n",
      "|  53   |   3   |  45   | +1.0436e+04 | 1.00e-03 | 2.53e+00 | 0.00e+00 | 1.00e-03 |  1.28e-06   |   4   |\n",
      "|  54   |   3   |  46   | +1.0436e+04 | 1.00e-04 | 2.53e+00 | 0.00e+00 | 1.00e-03 |  1.28e-06   |   4   |\n",
      "|  55   |   3   |  47   | +1.0436e+04 | 1.00e-05 | 2.53e+00 | 0.00e+00 | 1.00e-03 |  1.28e-06   |   4   |\n",
      "|  56   |   3   |  48   | +1.0436e+04 | 1.00e-06 | 2.53e+00 | 0.00e+00 | 1.00e-03 |  1.28e-06   |   4   |\n",
      "|  57   |   3   |  48   | +1.0436e+04 | 1.00e+00 | 2.53e+00 | 0.00e+00 | 1.00e-03 |  2.56e-07   |   0   |\n",
      "|  58   |   3   |  49   | +1.0436e+04 | 1.00e-01 | 2.53e+00 | 0.00e+00 | 1.00e-03 |  2.56e-07   |   4   |\n",
      "|  59   |   3   |  50   | +1.0436e+04 | 1.00e-02 | 2.53e+00 | 0.00e+00 | 1.00e-03 |  2.56e-07   |   4   |\n",
      "|  60   |   3   |  51   | +1.0436e+04 | 1.00e-03 | 2.53e+00 | 0.00e+00 | 1.00e-03 |  2.56e-07   |   4   |\n",
      "|  61   |   3   |  52   | +1.0436e+04 | 1.00e-04 | 2.53e+00 | 0.00e+00 | 1.00e-03 |  2.56e-07   |   4   |\n",
      "|  62   |   3   |  53   | +1.0436e+04 | 1.00e-05 | 2.53e+00 | 0.00e+00 | 1.00e-03 |  2.56e-07   |   4   |\n",
      "|  63   |   3   |  54   | +1.0436e+04 | 1.00e-06 | 2.53e+00 | 0.00e+00 | 1.00e-03 |  2.56e-07   |   4   |\n",
      "|  64   |   3   |  54   | +1.0436e+04 | 1.00e+00 | 2.53e+00 | 0.00e+00 | 1.00e-03 |  5.12e-08   |   0   |\n",
      "|  65   |   3   |  55   | +1.0436e+04 | 1.00e-01 | 2.53e+00 | 0.00e+00 | 1.00e-03 |  5.12e-08   |   4   |\n",
      "|  66   |   3   |  56   | +1.0436e+04 | 1.00e-02 | 2.53e+00 | 0.00e+00 | 1.00e-03 |  5.12e-08   |   4   |\n",
      "|  67   |   3   |  57   | +1.0436e+04 | 1.00e-03 | 2.53e+00 | 0.00e+00 | 1.00e-03 |  5.12e-08   |   4   |\n",
      "|  68   |   3   |  58   | +1.0436e+04 | 1.00e-04 | 2.53e+00 | 0.00e+00 | 1.00e-03 |  5.12e-08   |   4   |\n",
      "|  69   |   3   |  59   | +1.0436e+04 | 1.00e-05 | 2.53e+00 | 0.00e+00 | 1.00e-03 |  5.12e-08   |   4   |\n",
      "|  70   |   3   |  60   | +1.0436e+04 | 1.00e-06 | 2.53e+00 | 0.00e+00 | 1.00e-03 |  5.12e-08   |   4   |\n",
      "|  71   |   3   |  60   | +1.0436e+04 | 1.00e+00 | 2.53e+00 | 0.00e+00 | 1.00e-03 |  1.02e-08   |   0   |\n",
      "|  72   |   3   |  61   | +1.0436e+04 | 1.00e-01 | 2.53e+00 | 0.00e+00 | 1.00e-03 |  1.02e-08   |   4   |\n",
      "|  73   |   3   |  62   | +1.0436e+04 | 1.00e-02 | 2.53e+00 | 0.00e+00 | 1.00e-03 |  1.02e-08   |   4   |\n",
      "|  74   |   3   |  63   | +1.0436e+04 | 1.00e-03 | 2.53e+00 | 0.00e+00 | 1.00e-03 |  1.02e-08   |   4   |\n",
      "|  75   |   3   |  64   | +1.0436e+04 | 1.00e-04 | 2.53e+00 | 0.00e+00 | 1.00e-03 |  1.02e-08   |   4   |\n",
      "|  76   |   3   |  65   | +1.0436e+04 | 1.00e-05 | 2.53e+00 | 0.00e+00 | 1.00e-03 |  1.02e-08   |   4   |\n",
      "|  77   |   3   |  66   | +1.0436e+04 | 1.00e-06 | 2.53e+00 | 0.00e+00 | 1.00e-03 |  1.02e-08   |   4   |\n"
     ]
    },
    {
     "name": "stdout",
     "output_type": "stream",
     "text": [
      "|  78   |   3   |  66   | +1.0436e+04 | 1.00e+00 | 2.53e+00 | 0.00e+00 | 1.00e-03 |  2.05e-09   |   0   |\n",
      "|  79   |   3   |  67   | +1.0436e+04 | 1.00e-01 | 2.53e+00 | 0.00e+00 | 1.00e-03 |  2.05e-09   |   4   |\n",
      "|  80   |   3   |  68   | +1.0436e+04 | 1.00e-02 | 2.53e+00 | 0.00e+00 | 1.00e-03 |  2.05e-09   |   4   |\n",
      "|  81   |   3   |  69   | +1.0436e+04 | 1.00e-03 | 2.53e+00 | 0.00e+00 | 1.00e-03 |  2.05e-09   |   4   |\n",
      "|  82   |   3   |  70   | +1.0436e+04 | 1.00e-04 | 2.53e+00 | 0.00e+00 | 1.00e-03 |  2.05e-09   |   4   |\n",
      "|  83   |   3   |  71   | +1.0436e+04 | 1.00e-05 | 2.53e+00 | 0.00e+00 | 1.00e-03 |  2.05e-09   |   4   |\n",
      "|  84   |   3   |  72   | +1.0436e+04 | 1.00e-06 | 2.53e+00 | 0.00e+00 | 1.00e-03 |  2.05e-09   |   4   |\n",
      "\n",
      "`xtol` termination condition is satisfied.\n",
      "Number of iterations: 84, function evaluations: 3, CG iterations: 72, optimality: 2.53e+00, constraint violation: 0.00e+00, execution time:  6.5 s.\n"
     ]
    }
   ],
   "source": [
    "# trust-constr algorithm\n",
    "\n",
    "lb = [0, Emin, 0     , -1]\n",
    "ub = [1, Emax, np.inf,  1]\n",
    "\n",
    "bounds = Bounds(lb, ub, keep_feasible=True)\n",
    "#x0     = np.array([0.5, 400e3, 3e3, 1e-10])\n",
    "x0     = np.array([0.5, 400e3, 3e3, -0.5e-9])\n",
    "\n",
    "\n",
    "ub_b = np.inf*np.ones(len(E))\n",
    "lb_b = np.zeros(len(E))\n",
    "\n",
    "constraints = [NonlinearConstraint(fb_constr, lb_b, ub_b, jac=jac_b_constr, hess=hess_constr, keep_feasible=True)]\n",
    "\n",
    "res = minimize(likelihood, x0,\n",
    "               method = 'trust-constr',\n",
    "               options={'disp':True, 'verbose':3, 'maxiter':1000, 'initial_tr_radius':1,\n",
    "                        'gtol':1e-8, 'xtol':1e-8, 'barrier_tol': 1e-8,\n",
    "                        'initial_constr_penalty':1e-3, 'gtol':1e-8, 'xtol':1e-5},\n",
    "               jac   = jac_lik,\n",
    "               hess  = BFGS(),\n",
    "               constraints=constraints,\n",
    "               bounds=bounds)"
   ]
  },
  {
   "cell_type": "code",
   "execution_count": 20,
   "metadata": {},
   "outputs": [
    {
     "data": {
      "text/plain": [
       "array([ 5.e-01,  4.e+05,  3.e+03, -5.e-10])"
      ]
     },
     "execution_count": 20,
     "metadata": {},
     "output_type": "execute_result"
    }
   ],
   "source": [
    "res.x"
   ]
  },
  {
   "cell_type": "code",
   "execution_count": 21,
   "metadata": {},
   "outputs": [
    {
     "data": {
      "image/png": "[encoded data removed]",
      "text/plain": [
       "<Figure size 432x288 with 1 Axes>"
      ]
     },
     "metadata": {
      "needs_background": "light"
     },
     "output_type": "display_data"
    }
   ],
   "source": [
    "x=res.x\n",
    "E.sort()\n",
    "plt.plot(E, x[0]*fs(x)+(1-x[0])*fb(x));\n",
    "plt.hist(E, bins=100, density=True);"
   ]
  },
  {
   "cell_type": "code",
   "execution_count": 22,
   "metadata": {},
   "outputs": [
    {
     "data": {
      "image/png": "[encoded data removed]",
      "text/plain": [
       "<Figure size 432x288 with 1 Axes>"
      ]
     },
     "metadata": {
      "needs_background": "light"
     },
     "output_type": "display_data"
    }
   ],
   "source": [
    "fss = np.linspace(0, .99, 1000)\n",
    "xs = [[f, *res.x[1:4]] for f in fss]\n",
    "\n",
    "for i in range(0,len(fss)):\n",
    "    plt.scatter(fss[i], likelihood(xs[i]), c='r', s=5)\n",
    "    \n",
    "plt.scatter(res.x[0], likelihood(res.x), c='b');"
   ]
  },
  {
   "cell_type": "code",
   "execution_count": 23,
   "metadata": {},
   "outputs": [
    {
     "data": {
      "image/png": "[encoded data removed]",
      "text/plain": [
       "<Figure size 432x288 with 1 Axes>"
      ]
     },
     "metadata": {
      "needs_background": "light"
     },
     "output_type": "display_data"
    }
   ],
   "source": [
    "mss = np.linspace(-.8e-9, .5e-9, 1000)\n",
    "xs = [[*res.x[0:3], m] for m in mss]\n",
    "\n",
    "for i in range(0,len(fss)):\n",
    "    plt.scatter(mss[i], likelihood(xs[i]), c='r', s=5)\n",
    "plt.xlim([-2e-9, 2e-9,]);\n",
    "\n",
    "plt.scatter(res.x[-1], likelihood(res.x), c='b');"
   ]
  },
  {
   "cell_type": "code",
   "execution_count": null,
   "metadata": {},
   "outputs": [],
   "source": []
  },
  {
   "cell_type": "code",
   "execution_count": null,
   "metadata": {},
   "outputs": [],
   "source": []
  },
  {
   "cell_type": "code",
   "execution_count": 24,
   "metadata": {},
   "outputs": [
    {
     "name": "stdout",
     "output_type": "stream",
     "text": [
      "Inequality constraints incompatible    (Exit mode 4)\n",
      "            Current function value: 10714.048131004236\n",
      "            Iterations: 1\n",
      "            Function evaluations: 1\n",
      "            Gradient evaluations: 1\n"
     ]
    }
   ],
   "source": [
    "# OTHER ALGORITHM SLSQ (inequality constraints incompatible, i don't know why)\n",
    "\n",
    "bounds = Bounds([0, Emin, 0, -1e-10], [1, Emax, np.inf, 1e-10], keep_feasible=True)\n",
    "\n",
    "x0     = np.array([0.5, 400e3, 1e3, 1e-11])\n",
    "\n",
    "constraints=[{'type':'ineq','fun':fb_constr, 'jac':jac_b_constr}]\n",
    "\n",
    "res = minimize(likelihood, x0,\n",
    "               method = 'SLSQP',\n",
    "               options={'disp':True},\n",
    "               jac   = jac_lik,\n",
    "               constraints=constraints,\n",
    "               bounds=bounds)"
   ]
  },
  {
   "cell_type": "markdown",
   "metadata": {},
   "source": [
    "## GLOBAL MINIMIZATION\n",
    "using diferential_evolution algorithm"
   ]
  },
  {
   "cell_type": "code",
   "execution_count": 26,
   "metadata": {},
   "outputs": [
    {
     "name": "stdout",
     "output_type": "stream",
     "text": [
      "differential_evolution step 1: f(x)= 10491.3\n",
      "differential_evolution step 2: f(x)= 10464.8\n"
     ]
    }
   ],
   "source": [
    "def likelihood(x):\n",
    "    f = x[0]\n",
    "    p = f*fs(x) + (1-f)*fb(x)\n",
    "    \n",
    "    if (p>=0).all():\n",
    "        return -np.log(p).sum()\n",
    "    else:\n",
    "        return np.inf\n",
    "\n",
    "def jac_lik(x):\n",
    "    f = x[0]\n",
    "    p = f*fs(x) + (1-f)*fb(x)\n",
    "    \n",
    "    Ephs, sigs = jac_s(x)\n",
    "    mb         = jac_b(x)\n",
    "    \n",
    "    fder   = -((fs(x)-fb(x))/p).sum()\n",
    "    Ephder = -(f    *Ephs   /p).sum()\n",
    "    sigder = -(f    *sigs   /p).sum()\n",
    "    mder   = -((1-f)*mb     /p).sum()\n",
    "    \n",
    "    return np.array([fder, Ephder, sigder, mder])\n",
    "\n",
    "def fs(x):\n",
    "    f, Eph, sig,_ = x\n",
    "    A, _ = quad(gauss, Emin, Emax, args=(Eph, sig))\n",
    "    return (1/A)*gauss(E, Eph, sig)\n",
    "\n",
    "def gauss(E, Eph, sig):\n",
    "    return np.e**(-(E-Eph)**2/(2*sig**2))\n",
    "\n",
    "def jac_s(x):\n",
    "    f, Eph, sig,_ = x\n",
    "    \n",
    "    Ephder = fs(x)*(E-Eph)/sig**2\n",
    "    sigder = fs(x)*(-1/sig + (E-Eph)**2/sig**3)\n",
    "    \n",
    "    return np.array([Ephder, sigder])\n",
    "     \n",
    "def fb(x):  \n",
    "    f, Eph, sig, m = x\n",
    "    #m=m*1e-9\n",
    "    ct = c(m)\n",
    "    return m*E + ct\n",
    "\n",
    "def c(m):\n",
    "    return (1-0.5*m*(Emax**2-Emin**2))/(Emax-Emin)\n",
    "\n",
    "def jac_b(x):\n",
    "    mder = E - 0.5*(Emax**2-Emin**2)/(Emax-Emin)\n",
    "    return mder\n",
    "\n",
    "\n",
    "bounds = ((0,1),(Emin, Emax),(0, Emax-Emin),(-1e-9, 1e-9))\n",
    "x0     = np.array([0.5, 400e3, 1e3, 1e-10])\n",
    "\n",
    "res = optimize.differential_evolution(likelihood, \n",
    "                                      bounds,\n",
    "                                      disp=True)"
   ]
  },
  {
   "cell_type": "code",
   "execution_count": 27,
   "metadata": {},
   "outputs": [
    {
     "data": {
      "text/plain": [
       "array([ 5.41419371e-01,  3.99476887e+05,  2.54517218e+03, -1.88117569e-10])"
      ]
     },
     "execution_count": 27,
     "metadata": {},
     "output_type": "execute_result"
    }
   ],
   "source": [
    "res.x"
   ]
  },
  {
   "cell_type": "code",
   "execution_count": 28,
   "metadata": {},
   "outputs": [
    {
     "data": {
      "image/png": "[encoded data removed]",
      "text/plain": [
       "<Figure size 432x288 with 1 Axes>"
      ]
     },
     "metadata": {
      "needs_background": "light"
     },
     "output_type": "display_data"
    }
   ],
   "source": [
    "x=res.x\n",
    "E.sort()\n",
    "plt.plot(E, x[0]*fs(x)+(1-x[0])*fb(x));\n",
    "plt.hist(E, bins=100, density=True);"
   ]
  },
  {
   "cell_type": "code",
   "execution_count": null,
   "metadata": {},
   "outputs": [],
   "source": []
  },
  {
   "cell_type": "code",
   "execution_count": null,
   "metadata": {},
   "outputs": [],
   "source": []
  },
  {
   "cell_type": "code",
   "execution_count": null,
   "metadata": {},
   "outputs": [],
   "source": []
  },
  {
   "cell_type": "code",
   "execution_count": null,
   "metadata": {},
   "outputs": [],
   "source": []
  },
  {
   "cell_type": "code",
   "execution_count": null,
   "metadata": {},
   "outputs": [],
   "source": []
  },
  {
   "cell_type": "code",
   "execution_count": null,
   "metadata": {},
   "outputs": [],
   "source": []
  },
  {
   "cell_type": "code",
   "execution_count": null,
   "metadata": {},
   "outputs": [],
   "source": []
  },
  {
   "cell_type": "code",
   "execution_count": null,
   "metadata": {},
   "outputs": [],
   "source": []
  },
  {
   "cell_type": "markdown",
   "metadata": {},
   "source": [
    "## PROBABILITY FUNCTION METHOD"
   ]
  },
  {
   "cell_type": "code",
   "execution_count": 39,
   "metadata": {},
   "outputs": [],
   "source": [
    "def likelihood(x):\n",
    "    pr = p(x)\n",
    "    return -np.log(pr).sum()\n",
    "\n",
    "def jac_lik(x):\n",
    "    A, Eph, sig, m = x\n",
    "    \n",
    "    pr = p(x)\n",
    "    \n",
    "    Ader   = -(gauss(E, Eph, sig)                     /pr).sum()\n",
    "    Ephder = -(A*gauss(E, Eph, sig)*(E-Eph)/sig**2    /pr).sum()\n",
    "    sigder = -(A*gauss(E, Eph, sig)*(E-Eph)**2/sig**3 /pr).sum()\n",
    "    mder   = -(E - 0.5*(Emax**2-Emin**2)/(Emax-Emin)  /pr).sum()\n",
    "    \n",
    "    return np.array([Ader, Ephder, sigder, mder])\n",
    "\n",
    "def p(x):\n",
    "    A, Eph, sig, m = x\n",
    "    ct = c(x)\n",
    "    return A*np.e**(-(E-Eph)**2/(2*sig**2)) + m*E + ct\n",
    "\n",
    "def c(x):\n",
    "    A, Eph, sig, m = x\n",
    "    I,_ = quad(gauss, Emin, Emax, args=(Eph, sig))\n",
    "    \n",
    "    return (1-A*I-0.5*m*(Emax**2-Emin**2))/(Emax-Emin)\n",
    "\n",
    "def gauss(E, Eph, sig):\n",
    "    return np.e**(-(E-Eph)**2/(2*sig**2))\n",
    "\n",
    "##################################################\n",
    "##################################################\n",
    "##################################################\n",
    "                  \n",
    "def jac_p(x):\n",
    "    A, Eph, sig, m = x\n",
    "    \n",
    "    Ader   = gauss(E, Eph, sig)\n",
    "    Ephder = A*gauss(E, Eph, sig)*(E-Eph)/sig**2\n",
    "    sigder = A*gauss(E, Eph, sig)*(E-Eph)**2/sig**3\n",
    "    mder   = E - 0.5*(Emax**2-Emin**2)/(Emax-Emin)\n",
    "    \n",
    "    return np.array([Ader, Ephder, sigder, mder]).T"
   ]
  },
  {
   "cell_type": "code",
   "execution_count": 40,
   "metadata": {},
   "outputs": [
    {
     "name": "stdout",
     "output_type": "stream",
     "text": [
      "| niter |f evals|CG iter|  obj func   |tr radius |   opt    |  c viol  | penalty  |barrier param|CG stop|\n",
      "|-------|-------|-------|-------------|----------|----------|----------|----------|-------------|-------|\n",
      "|   1   |   1   |   0   | +8.8549e+03 | 1.00e+00 | 4.41e-01 | 0.00e+00 | 1.00e+00 |  1.00e-01   |   0   |\n",
      "|   2   |   2   |   1   | +8.8503e+03 | 1.00e+00 | 4.68e-01 | 0.00e+00 | 1.00e+00 |  1.00e-01   |   2   |\n",
      "|   3   |   3   |   5   | +8.8503e+03 | 1.00e+00 | 4.68e-01 | 0.00e+00 | 1.00e+00 |  1.00e-01   |   1   |\n",
      "|   4   |   4   |   8   | +8.8464e+03 | 1.00e+00 | 4.90e-01 | 0.00e+00 | 1.00e+00 |  1.00e-01   |   2   |\n",
      "|   5   |   5   |  11   | +8.8431e+03 | 1.00e+00 | 5.07e-01 | 0.00e+00 | 1.00e+00 |  1.00e-01   |   2   |\n",
      "|   6   |   6   |  14   | +8.8408e+03 | 1.00e+00 | 5.17e-01 | 0.00e+00 | 1.00e+00 |  1.00e-01   |   2   |\n",
      "|   7   |   7   |  17   | +8.8394e+03 | 1.00e+00 | 5.18e-01 | 0.00e+00 | 1.00e+00 |  1.00e-01   |   2   |\n",
      "|   8   |   8   |  20   | +8.8390e+03 | 1.00e+00 | 5.09e-01 | 0.00e+00 | 1.00e+00 |  1.00e-01   |   2   |\n",
      "|   9   |   9   |  23   | +8.8390e+03 | 5.00e-01 | 5.09e-01 | 0.00e+00 | 1.00e+00 |  1.00e-01   |   2   |\n",
      "|  10   |  10   |  26   | +8.8390e+03 | 2.50e-01 | 5.09e-01 | 0.00e+00 | 1.00e+00 |  1.00e-01   |   2   |\n",
      "|  11   |  11   |  29   | +8.8390e+03 | 1.25e-01 | 5.09e-01 | 0.00e+00 | 1.00e+00 |  1.00e-01   |   2   |\n",
      "|  12   |  12   |  32   | +8.8390e+03 | 6.25e-02 | 5.09e-01 | 0.00e+00 | 1.00e+00 |  1.00e-01   |   2   |\n",
      "|  13   |  13   |  35   | +8.8390e+03 | 3.12e-02 | 5.09e-01 | 0.00e+00 | 1.00e+00 |  1.00e-01   |   2   |\n",
      "|  14   |  14   |  38   | +8.8390e+03 | 1.56e-02 | 5.09e-01 | 0.00e+00 | 1.00e+00 |  1.00e-01   |   2   |\n",
      "|  15   |  15   |  41   | +8.8390e+03 | 7.81e-03 | 5.09e-01 | 0.00e+00 | 1.00e+00 |  1.00e-01   |   2   |\n",
      "|  16   |  16   |  44   | +8.8390e+03 | 3.91e-03 | 5.09e-01 | 0.00e+00 | 1.00e+00 |  1.00e-01   |   2   |\n",
      "|  17   |  17   |  47   | +8.8390e+03 | 1.95e-03 | 5.09e-01 | 0.00e+00 | 1.00e+00 |  1.00e-01   |   2   |\n",
      "|  18   |  18   |  50   | +8.8390e+03 | 9.77e-04 | 5.09e-01 | 0.00e+00 | 1.00e+00 |  1.00e-01   |   2   |\n",
      "|  19   |  19   |  53   | +8.8390e+03 | 4.88e-04 | 5.09e-01 | 0.00e+00 | 1.00e+00 |  1.00e-01   |   2   |\n",
      "|  20   |  20   |  56   | +8.8390e+03 | 2.44e-04 | 5.09e-01 | 0.00e+00 | 1.00e+00 |  1.00e-01   |   2   |\n",
      "|  21   |  21   |  59   | +8.8390e+03 | 1.22e-04 | 5.09e-01 | 0.00e+00 | 1.00e+00 |  1.00e-01   |   2   |\n",
      "|  22   |  22   |  62   | +8.8390e+03 | 6.10e-05 | 5.09e-01 | 0.00e+00 | 1.00e+00 |  1.00e-01   |   2   |\n",
      "|  23   |  23   |  65   | +8.8390e+03 | 3.05e-05 | 5.09e-01 | 0.00e+00 | 1.00e+00 |  1.00e-01   |   2   |\n",
      "|  24   |  24   |  68   | +8.8390e+03 | 1.53e-05 | 5.09e-01 | 0.00e+00 | 1.00e+00 |  1.00e-01   |   2   |\n",
      "|  25   |  25   |  71   | +8.8390e+03 | 7.63e-06 | 5.09e-01 | 0.00e+00 | 1.00e+00 |  1.00e-01   |   2   |\n",
      "|  26   |  26   |  74   | +8.8390e+03 | 3.81e-06 | 5.09e-01 | 0.00e+00 | 1.00e+00 |  1.00e-01   |   2   |\n",
      "|  27   |  27   |  77   | +8.8390e+03 | 1.91e-06 | 5.09e-01 | 0.00e+00 | 1.00e+00 |  1.00e-01   |   2   |\n",
      "|  28   |  28   |  80   | +8.8390e+03 | 9.54e-07 | 5.09e-01 | 0.00e+00 | 1.00e+00 |  1.00e-01   |   2   |\n",
      "|  29   |  29   |  83   | +8.8390e+03 | 4.77e-07 | 5.09e-01 | 0.00e+00 | 1.00e+00 |  1.00e-01   |   2   |\n",
      "|  30   |  30   |  86   | +8.8390e+03 | 2.38e-07 | 5.09e-01 | 0.00e+00 | 1.00e+00 |  1.00e-01   |   2   |\n",
      "|  31   |  31   |  89   | +8.8390e+03 | 1.19e-07 | 5.09e-01 | 0.00e+00 | 1.00e+00 |  1.00e-01   |   2   |\n",
      "|  32   |  32   |  92   | +8.8390e+03 | 5.96e-08 | 5.09e-01 | 0.00e+00 | 1.00e+00 |  1.00e-01   |   2   |\n",
      "|  33   |  33   |  95   | +8.8390e+03 | 2.98e-08 | 5.09e-01 | 0.00e+00 | 1.00e+00 |  1.00e-01   |   2   |\n",
      "|  34   |  34   |  98   | +8.8390e+03 | 1.49e-08 | 5.09e-01 | 0.00e+00 | 1.00e+00 |  1.00e-01   |   2   |\n",
      "|  35   |  35   |  101  | +8.8390e+03 | 7.45e-09 | 5.09e-01 | 0.00e+00 | 1.00e+00 |  1.00e-01   |   2   |\n",
      "|  36   |  36   |  101  | +8.8390e+03 | 1.00e+00 | 5.09e-01 | 0.00e+00 | 1.00e+00 |  2.00e-02   |   0   |\n",
      "|  37   |  37   |  104  | +8.8390e+03 | 5.00e-01 | 5.09e-01 | 0.00e+00 | 1.00e+00 |  2.00e-02   |   2   |\n",
      "|  38   |  38   |  107  | +8.8390e+03 | 2.50e-01 | 5.09e-01 | 0.00e+00 | 1.00e+00 |  2.00e-02   |   2   |\n",
      "|  39   |  39   |  110  | +8.8390e+03 | 1.25e-01 | 5.09e-01 | 0.00e+00 | 1.00e+00 |  2.00e-02   |   2   |\n",
      "|  40   |  40   |  113  | +8.8390e+03 | 6.25e-02 | 5.09e-01 | 0.00e+00 | 1.00e+00 |  2.00e-02   |   2   |\n",
      "|  41   |  41   |  116  | +8.8390e+03 | 3.12e-02 | 5.09e-01 | 0.00e+00 | 1.00e+00 |  2.00e-02   |   2   |\n",
      "|  42   |  42   |  119  | +8.8390e+03 | 1.56e-02 | 5.09e-01 | 0.00e+00 | 1.00e+00 |  2.00e-02   |   2   |\n",
      "|  43   |  43   |  122  | +8.8390e+03 | 7.81e-03 | 5.09e-01 | 0.00e+00 | 1.00e+00 |  2.00e-02   |   2   |\n",
      "|  44   |  44   |  125  | +8.8390e+03 | 3.91e-03 | 5.09e-01 | 0.00e+00 | 1.00e+00 |  2.00e-02   |   2   |\n",
      "|  45   |  45   |  128  | +8.8390e+03 | 1.95e-03 | 5.09e-01 | 0.00e+00 | 1.00e+00 |  2.00e-02   |   2   |\n",
      "|  46   |  46   |  131  | +8.8390e+03 | 9.77e-04 | 5.09e-01 | 0.00e+00 | 1.00e+00 |  2.00e-02   |   2   |\n",
      "|  47   |  47   |  134  | +8.8390e+03 | 4.88e-04 | 5.09e-01 | 0.00e+00 | 1.00e+00 |  2.00e-02   |   2   |\n",
      "|  48   |  48   |  137  | +8.8390e+03 | 2.44e-04 | 5.09e-01 | 0.00e+00 | 1.00e+00 |  2.00e-02   |   2   |\n",
      "|  49   |  49   |  140  | +8.8390e+03 | 1.22e-04 | 5.09e-01 | 0.00e+00 | 1.00e+00 |  2.00e-02   |   2   |\n",
      "|  50   |  50   |  143  | +8.8390e+03 | 6.10e-05 | 5.09e-01 | 0.00e+00 | 1.00e+00 |  2.00e-02   |   2   |\n",
      "|  51   |  51   |  146  | +8.8390e+03 | 3.05e-05 | 5.09e-01 | 0.00e+00 | 1.00e+00 |  2.00e-02   |   2   |\n",
      "|  52   |  52   |  149  | +8.8390e+03 | 1.53e-05 | 5.09e-01 | 0.00e+00 | 1.00e+00 |  2.00e-02   |   2   |\n",
      "|  53   |  53   |  152  | +8.8390e+03 | 7.63e-06 | 5.09e-01 | 0.00e+00 | 1.00e+00 |  2.00e-02   |   2   |\n",
      "|  54   |  54   |  155  | +8.8390e+03 | 3.81e-06 | 5.09e-01 | 0.00e+00 | 1.00e+00 |  2.00e-02   |   2   |\n",
      "|  55   |  55   |  157  | +8.8390e+03 | 1.91e-06 | 5.09e-01 | 0.00e+00 | 1.00e+00 |  2.00e-02   |   2   |\n",
      "|  56   |  56   |  159  | +8.8390e+03 | 9.54e-07 | 5.09e-01 | 0.00e+00 | 1.00e+00 |  2.00e-02   |   2   |\n",
      "|  57   |  57   |  161  | +8.8390e+03 | 4.77e-07 | 5.09e-01 | 0.00e+00 | 1.00e+00 |  2.00e-02   |   2   |\n",
      "|  58   |  58   |  163  | +8.8390e+03 | 2.38e-07 | 5.09e-01 | 0.00e+00 | 1.00e+00 |  2.00e-02   |   2   |\n",
      "|  59   |  59   |  165  | +8.8390e+03 | 1.19e-07 | 5.09e-01 | 0.00e+00 | 1.00e+00 |  2.00e-02   |   2   |\n",
      "|  60   |  60   |  167  | +8.8390e+03 | 5.96e-08 | 5.09e-01 | 0.00e+00 | 1.00e+00 |  2.00e-02   |   2   |\n",
      "|  61   |  61   |  169  | +8.8390e+03 | 2.98e-08 | 5.09e-01 | 0.00e+00 | 1.00e+00 |  2.00e-02   |   2   |\n",
      "|  62   |  62   |  171  | +8.8390e+03 | 1.49e-08 | 5.09e-01 | 0.00e+00 | 1.00e+00 |  2.00e-02   |   2   |\n",
      "|  63   |  63   |  173  | +8.8390e+03 | 7.45e-09 | 5.09e-01 | 0.00e+00 | 1.00e+00 |  2.00e-02   |   2   |\n",
      "|  64   |  64   |  173  | +8.8390e+03 | 1.00e+00 | 5.09e-01 | 0.00e+00 | 1.00e+00 |  4.00e-03   |   0   |\n",
      "|  65   |  65   |  176  | +8.8390e+03 | 5.00e-01 | 5.09e-01 | 0.00e+00 | 1.00e+00 |  4.00e-03   |   2   |\n",
      "|  66   |  66   |  179  | +8.8390e+03 | 2.50e-01 | 5.09e-01 | 0.00e+00 | 1.00e+00 |  4.00e-03   |   2   |\n",
      "|  67   |  67   |  182  | +8.8390e+03 | 1.25e-01 | 5.09e-01 | 0.00e+00 | 1.00e+00 |  4.00e-03   |   2   |\n",
      "|  68   |  68   |  185  | +8.8390e+03 | 6.25e-02 | 5.09e-01 | 0.00e+00 | 1.00e+00 |  4.00e-03   |   2   |\n",
      "|  69   |  69   |  188  | +8.8390e+03 | 3.12e-02 | 5.09e-01 | 0.00e+00 | 1.00e+00 |  4.00e-03   |   2   |\n",
      "|  70   |  70   |  191  | +8.8390e+03 | 1.56e-02 | 5.09e-01 | 0.00e+00 | 1.00e+00 |  4.00e-03   |   2   |\n",
      "|  71   |  71   |  194  | +8.8390e+03 | 7.81e-03 | 5.09e-01 | 0.00e+00 | 1.00e+00 |  4.00e-03   |   2   |\n",
      "|  72   |  72   |  197  | +8.8390e+03 | 3.91e-03 | 5.09e-01 | 0.00e+00 | 1.00e+00 |  4.00e-03   |   2   |\n",
      "|  73   |  73   |  200  | +8.8390e+03 | 1.95e-03 | 5.09e-01 | 0.00e+00 | 1.00e+00 |  4.00e-03   |   2   |\n",
      "|  74   |  74   |  203  | +8.8390e+03 | 9.77e-04 | 5.09e-01 | 0.00e+00 | 1.00e+00 |  4.00e-03   |   2   |\n",
      "|  75   |  75   |  206  | +8.8390e+03 | 4.88e-04 | 5.09e-01 | 0.00e+00 | 1.00e+00 |  4.00e-03   |   2   |\n",
      "|  76   |  76   |  209  | +8.8390e+03 | 2.44e-04 | 5.09e-01 | 0.00e+00 | 1.00e+00 |  4.00e-03   |   2   |\n",
      "|  77   |  77   |  212  | +8.8390e+03 | 1.22e-04 | 5.09e-01 | 0.00e+00 | 1.00e+00 |  4.00e-03   |   2   |\n",
      "|  78   |  78   |  215  | +8.8390e+03 | 6.10e-05 | 5.09e-01 | 0.00e+00 | 1.00e+00 |  4.00e-03   |   2   |\n"
     ]
    },
    {
     "name": "stdout",
     "output_type": "stream",
     "text": [
      "|  79   |  79   |  218  | +8.8390e+03 | 3.05e-05 | 5.09e-01 | 0.00e+00 | 1.00e+00 |  4.00e-03   |   2   |\n",
      "|  80   |  80   |  221  | +8.8390e+03 | 1.53e-05 | 5.09e-01 | 0.00e+00 | 1.00e+00 |  4.00e-03   |   2   |\n",
      "|  81   |  81   |  224  | +8.8390e+03 | 7.63e-06 | 5.09e-01 | 0.00e+00 | 1.00e+00 |  4.00e-03   |   2   |\n",
      "|  82   |  82   |  227  | +8.8390e+03 | 3.81e-06 | 5.09e-01 | 0.00e+00 | 1.00e+00 |  4.00e-03   |   2   |\n",
      "|  83   |  83   |  230  | +8.8390e+03 | 1.91e-06 | 5.09e-01 | 0.00e+00 | 1.00e+00 |  4.00e-03   |   2   |\n",
      "|  84   |  84   |  233  | +8.8390e+03 | 9.54e-07 | 5.09e-01 | 0.00e+00 | 1.00e+00 |  4.00e-03   |   2   |\n",
      "|  85   |  85   |  236  | +8.8390e+03 | 4.77e-07 | 5.09e-01 | 0.00e+00 | 1.00e+00 |  4.00e-03   |   2   |\n",
      "|  86   |  86   |  239  | +8.8390e+03 | 2.38e-07 | 5.09e-01 | 0.00e+00 | 1.00e+00 |  4.00e-03   |   2   |\n",
      "|  87   |  87   |  242  | +8.8390e+03 | 1.19e-07 | 5.09e-01 | 0.00e+00 | 1.00e+00 |  4.00e-03   |   2   |\n",
      "|  88   |  88   |  244  | +8.8390e+03 | 5.96e-08 | 5.09e-01 | 0.00e+00 | 1.00e+00 |  4.00e-03   |   2   |\n",
      "|  89   |  89   |  246  | +8.8390e+03 | 2.98e-08 | 5.09e-01 | 0.00e+00 | 1.00e+00 |  4.00e-03   |   2   |\n",
      "|  90   |  90   |  248  | +8.8390e+03 | 1.49e-08 | 5.09e-01 | 0.00e+00 | 1.00e+00 |  4.00e-03   |   2   |\n",
      "|  91   |  91   |  250  | +8.8390e+03 | 7.45e-09 | 5.09e-01 | 0.00e+00 | 1.00e+00 |  4.00e-03   |   2   |\n",
      "|  92   |  92   |  250  | +8.8390e+03 | 1.00e+00 | 5.09e-01 | 0.00e+00 | 1.00e+00 |  8.00e-04   |   0   |\n",
      "|  93   |  93   |  253  | +8.8390e+03 | 5.00e-01 | 5.09e-01 | 0.00e+00 | 1.00e+00 |  8.00e-04   |   2   |\n",
      "|  94   |  94   |  256  | +8.8390e+03 | 2.50e-01 | 5.09e-01 | 0.00e+00 | 1.00e+00 |  8.00e-04   |   2   |\n",
      "|  95   |  95   |  259  | +8.8390e+03 | 1.25e-01 | 5.09e-01 | 0.00e+00 | 1.00e+00 |  8.00e-04   |   2   |\n",
      "|  96   |  96   |  262  | +8.8390e+03 | 6.25e-02 | 5.09e-01 | 0.00e+00 | 1.00e+00 |  8.00e-04   |   2   |\n",
      "|  97   |  97   |  265  | +8.8390e+03 | 3.12e-02 | 5.09e-01 | 0.00e+00 | 1.00e+00 |  8.00e-04   |   2   |\n",
      "|  98   |  98   |  268  | +8.8390e+03 | 1.56e-02 | 5.09e-01 | 0.00e+00 | 1.00e+00 |  8.00e-04   |   2   |\n",
      "|  99   |  99   |  271  | +8.8390e+03 | 7.81e-03 | 5.09e-01 | 0.00e+00 | 1.00e+00 |  8.00e-04   |   2   |\n",
      "|  100  |  100  |  274  | +8.8390e+03 | 3.91e-03 | 5.09e-01 | 0.00e+00 | 1.00e+00 |  8.00e-04   |   2   |\n",
      "|  101  |  101  |  277  | +8.8390e+03 | 1.95e-03 | 5.09e-01 | 0.00e+00 | 1.00e+00 |  8.00e-04   |   2   |\n",
      "\n",
      "The maximum number of function evaluations is exceeded.\n",
      "Number of iterations: 101, function evaluations: 101, CG iterations: 277, optimality: 5.09e-01, constraint violation: 0.00e+00, execution time:  5.5 s.\n"
     ]
    }
   ],
   "source": [
    "lb = [0     , Emin, 0     , -1]\n",
    "ub = [np.inf, Emax, np.inf,  1]\n",
    "\n",
    "bounds = Bounds(lb, ub, keep_feasible=True)\n",
    "x0     = np.array([1e-4 , 400e3, 3e3, 1e-10])\n",
    "#x0     =np.array([9.67530498e-05,  4.00000001e+05,  9.99997891e+02, -2.71698620e-10])\n",
    "\n",
    "ub_b = np.inf*np.ones(len(E))\n",
    "lb_b = np.zeros(len(E))\n",
    "\n",
    "constraints = [NonlinearConstraint(p, lb_b, ub_b, jac=jac_p, hess=BFGS(), keep_feasible=True)]\n",
    "\n",
    "res = minimize(likelihood, x0,\n",
    "               method = 'trust-constr',\n",
    "               options={'disp':True, 'verbose':3, 'maxiter':100, 'initial_tr_radius':1},\n",
    "               jac   = jac_lik,\n",
    "               hess  = BFGS(),\n",
    "               constraints=constraints,\n",
    "               bounds=bounds)"
   ]
  },
  {
   "cell_type": "code",
   "execution_count": 41,
   "metadata": {},
   "outputs": [
    {
     "data": {
      "text/plain": [
       "array([ 1.01090738e-04,  4.00000001e+05,  2.99999963e+03, -4.52700357e-11])"
      ]
     },
     "execution_count": 41,
     "metadata": {},
     "output_type": "execute_result"
    }
   ],
   "source": [
    "res.x"
   ]
  },
  {
   "cell_type": "code",
   "execution_count": 42,
   "metadata": {},
   "outputs": [
    {
     "data": {
      "image/png": "[encoded data removed]",
      "text/plain": [
       "<Figure size 432x288 with 1 Axes>"
      ]
     },
     "metadata": {
      "needs_background": "light"
     },
     "output_type": "display_data"
    }
   ],
   "source": [
    "x=res.x\n",
    "plt.plot(E, p(x));\n",
    "plt.hist(E, bins=100,density=True);"
   ]
  },
  {
   "cell_type": "code",
   "execution_count": null,
   "metadata": {},
   "outputs": [],
   "source": []
  },
  {
   "cell_type": "code",
   "execution_count": 47,
   "metadata": {},
   "outputs": [
    {
     "name": "stderr",
     "output_type": "stream",
     "text": [
      "/home/gonzalo/anaconda3/envs/IC-3.7-2018-10-20/lib/python3.7/site-packages/ipykernel_launcher.py:3: RuntimeWarning: invalid value encountered in log\n",
      "  This is separate from the ipykernel package so we can avoid doing imports until\n"
     ]
    },
    {
     "data": {
      "image/png": "[encoded data removed]",
      "text/plain": [
       "<Figure size 432x288 with 1 Axes>"
      ]
     },
     "metadata": {
      "needs_background": "light"
     },
     "output_type": "display_data"
    }
   ],
   "source": [
    "mss = np.linspace(-1e-9, 1e-9, 1000)\n",
    "xs = [[*res.x[0:3], m] for m in mss]\n",
    "\n",
    "for i in range(0,len(mss)):\n",
    "    plt.scatter(mss[i], likelihood(xs[i]), c='r', s=5)\n",
    "plt.xlim([-2e-9, 2e-9,]);\n",
    "\n",
    "plt.scatter(res.x[-1], likelihood(res.x), c='b');"
   ]
  },
  {
   "cell_type": "code",
   "execution_count": null,
   "metadata": {},
   "outputs": [],
   "source": []
  },
  {
   "cell_type": "code",
   "execution_count": null,
   "metadata": {},
   "outputs": [],
   "source": []
  },
  {
   "cell_type": "code",
   "execution_count": null,
   "metadata": {},
   "outputs": [],
   "source": []
  }
 ],
 "metadata": {
  "kernelspec": {
   "display_name": "Python 3",
   "language": "python",
   "name": "python3"
  },
  "language_info": {
   "codemirror_mode": {
    "name": "ipython",
    "version": 3
   },
   "file_extension": ".py",
   "mimetype": "text/x-python",
   "name": "python",
   "nbconvert_exporter": "python",
   "pygments_lexer": "ipython3",
   "version": "3.7.0"
  }
 },
 "nbformat": 4,
 "nbformat_minor": 2
}
