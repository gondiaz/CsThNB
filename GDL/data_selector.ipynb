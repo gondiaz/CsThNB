{
 "cells": [
  {
   "cell_type": "markdown",
   "metadata": {},
   "source": [
    "Given a Run and a set of events of this Run, this NB searches and saves them. Only S2 sipmt data and pmt total energy data is saved. Inputs needed are:\n",
    "\n",
    "- Run number.\n",
    "- Events number to select.\n",
    "- The number of the last partition in the Run that you want to search.\n",
    "- Directory where pmaps files are saved."
   ]
  },
  {
   "cell_type": "code",
   "execution_count": 1,
   "metadata": {},
   "outputs": [],
   "source": [
    "import os\n",
    "\n",
    "import invisible_cities.io.pmaps_io as pm\n",
    "\n",
    "import numpy as np\n",
    "import matplotlib.pyplot as plt\n",
    "import pandas as pd"
   ]
  },
  {
   "cell_type": "code",
   "execution_count": 2,
   "metadata": {},
   "outputs": [],
   "source": [
    "#INPUTS:\n",
    "\n",
    "run       = 6202\n",
    "npart     = 8000  #number of the last partition, or higher\n",
    "directory = \"/home/gonzalo/Documentos/NEXT/DATOS/{}/pmaps\".format(run)\n",
    "\n",
    "n_ev  = 1000 #number of events in each file"
   ]
  },
  {
   "cell_type": "code",
   "execution_count": 3,
   "metadata": {},
   "outputs": [],
   "source": [
    "#EVENTS TO SELECT (choose one)\n",
    "\n",
    "#cs\n",
    "cs_evt = np.load(\"cs_evts_{}.npz\".format(run))['A_evtnum']\n",
    "\n",
    "#descape\n",
    "descape_evt = np.load(\"descape_evts_{}.npz\".format(run))['A_evtnum']\n",
    "\n",
    "#th\n",
    "th_evt = np.load(\"photopeakTh_evts_{}.npz\".format(run))['A_evtnum']\n",
    "\n",
    "evts = th_evt\n",
    "evts.sort()     #events sorting (this is not compulsory)"
   ]
  },
  {
   "cell_type": "code",
   "execution_count": 4,
   "metadata": {},
   "outputs": [],
   "source": [
    "#evts.sort()\n",
    "#evts_part  = [evts[n_ev*i:(i+1)*n_ev] for i in range(0, int(len(evts)/n_ev))] + [evts[n_ev * int(len(evts)/n_ev):]]\n",
    "#partitions = [\"{:04}\".format(i) for i in range(0, npart+1)]"
   ]
  },
  {
   "cell_type": "code",
   "execution_count": 4,
   "metadata": {},
   "outputs": [
    {
     "name": "stdout",
     "output_type": "stream",
     "text": [
      "Events saved in chunk 00 of 00: 011 %\r"
     ]
    }
   ],
   "source": [
    "#SEARCHER AND DATAFRAME CREATOR\n",
    "\n",
    "#COMMENT: do not mistake the number of partition of pmap, with the number of chunk of the selected data\n",
    "\n",
    "part = 0\n",
    "n_chunk = int(len(evts)/n_ev) + 1 #total number of chunk\n",
    "\n",
    "for j in range(0, n_chunk): #j is the number of chunk\n",
    "    file = 'Thphotopeak_{}_{}.h5'.format(run, j) #filename of the saved data\n",
    "    i = 0\n",
    "    partitions = [\"{:04}\".format(i) for i in range(int(part), npart+1)]\n",
    "    for part in partitions:\n",
    "        try:\n",
    "            #partition data as dataframe\n",
    "            filename = \"{}/pmaps_{}_{}_v0.9.7-19-g574c657_20180710_krth1300.h5\".format(directory, part, run)\n",
    "            s1, s2, s2si, s1pmt, s2pmt = pm.load_pmaps_as_df(filename)\n",
    "            \n",
    "            #event search\n",
    "            ar1 = np.unique(s1['event'])\n",
    "            coinc = np.intersect1d(ar1, evts, True) #coincident events\n",
    "        \n",
    "            for event in coinc:\n",
    "                s1_ev   = s1[s1.event == event]\n",
    "                s2_ev   = s2   [s2.event    == event]\n",
    "                s2si_ev = s2si [s2si.event  == event]\n",
    "                s1pmt_ev= s1pmt[s1pmt.event == event]\n",
    "                s2pmt_ev= s2pmt[s2pmt.event == event]\n",
    "            \n",
    "                s1_ev   .to_hdf(file, key = 's1'   , append = True)\n",
    "                s2_ev   .to_hdf(file, key = 's2'   , append = True)\n",
    "                s2si_ev .to_hdf(file, key = 's2si' , append = True)\n",
    "                s1pmt_ev.to_hdf(file, key = 's1pmt', append = True)\n",
    "                s2pmt_ev.to_hdf(file, key = 's2pmt', append = True)\n",
    "                \n",
    "                #this is useful if some of the coinc should be saved in a diferent chunk\n",
    "                evts = np.delete(evts, np.argwhere(evts == event))\n",
    "                \n",
    "                i+=1\n",
    "                print('Events saved in chunk {:02} of {:02}: {:03} %'.format(j, n_chunk-1\n",
    "                                                                              , int(i*100/n_ev)), end = '\\r')\n",
    "                if i >= n_ev: break\n",
    "                    \n",
    "            if i>= n_ev: break\n",
    "         \n",
    "        except OSError: continue\n",
    "    if len(evts)==0: break"
   ]
  },
  {
   "cell_type": "code",
   "execution_count": null,
   "metadata": {},
   "outputs": [],
   "source": []
  },
  {
   "cell_type": "code",
   "execution_count": null,
   "metadata": {},
   "outputs": [],
   "source": []
  },
  {
   "cell_type": "code",
   "execution_count": null,
   "metadata": {},
   "outputs": [],
   "source": []
  },
  {
   "cell_type": "code",
   "execution_count": 6,
   "metadata": {},
   "outputs": [],
   "source": [
    "#READ (for comprobation purposes)\n",
    "hdf = pd.HDFStore(file)"
   ]
  },
  {
   "cell_type": "code",
   "execution_count": 7,
   "metadata": {},
   "outputs": [],
   "source": [
    "df = hdf['s2si']"
   ]
  },
  {
   "cell_type": "code",
   "execution_count": 8,
   "metadata": {},
   "outputs": [
    {
     "data": {
      "text/plain": [
       "457"
      ]
     },
     "execution_count": 8,
     "metadata": {},
     "output_type": "execute_result"
    }
   ],
   "source": [
    "len(events)"
   ]
  },
  {
   "cell_type": "code",
   "execution_count": 9,
   "metadata": {},
   "outputs": [
    {
     "data": {
      "text/plain": [
       "28456517"
      ]
     },
     "execution_count": 9,
     "metadata": {},
     "output_type": "execute_result"
    }
   ],
   "source": [
    "len(df)"
   ]
  },
  {
   "cell_type": "code",
   "execution_count": null,
   "metadata": {},
   "outputs": [],
   "source": []
  },
  {
   "cell_type": "code",
   "execution_count": null,
   "metadata": {},
   "outputs": [],
   "source": []
  }
 ],
 "metadata": {
  "kernelspec": {
   "display_name": "Python 3",
   "language": "python",
   "name": "python3"
  },
  "language_info": {
   "codemirror_mode": {
    "name": "ipython",
    "version": 3
   },
   "file_extension": ".py",
   "mimetype": "text/x-python",
   "name": "python",
   "nbconvert_exporter": "python",
   "pygments_lexer": "ipython3",
   "version": "3.6.6"
  }
 },
 "nbformat": 4,
 "nbformat_minor": 2
}
