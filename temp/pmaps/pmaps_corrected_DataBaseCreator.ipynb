{
 "cells": [
  {
   "cell_type": "markdown",
   "metadata": {},
   "source": [
    "# pmaps DataBaseCreator\n",
    "### GDL 17/10/2018"
   ]
  },
  {
   "cell_type": "markdown",
   "metadata": {},
   "source": [
    "<i>\n",
    "This notebook applies corrections to pmaps to produce an energy spectrum and saves them to file\n",
    "\n",
    "</i>"
   ]
  },
  {
   "cell_type": "code",
   "execution_count": 1,
   "metadata": {},
   "outputs": [
    {
     "name": "stdout",
     "output_type": "stream",
     "text": [
      "Last updated on  Tue Oct 23 22:08:31 2018\n"
     ]
    }
   ],
   "source": [
    "import time\n",
    "print(\"Last updated on \", time.asctime())"
   ]
  },
  {
   "cell_type": "code",
   "execution_count": 2,
   "metadata": {},
   "outputs": [],
   "source": [
    "%matplotlib inline\n",
    "%load_ext autoreload\n",
    "%autoreload 2"
   ]
  },
  {
   "cell_type": "markdown",
   "metadata": {},
   "source": [
    "### Notebook configuration"
   ]
  },
  {
   "cell_type": "code",
   "execution_count": 3,
   "metadata": {},
   "outputs": [],
   "source": [
    "run_number             = 6206\n",
    "\n",
    "directory = \"/home/gonzalo/Documentos/NEXT\"\n",
    "region = \"Thphotopeak\"\n",
    "n_lastchunk = 0\n",
    "\n",
    "input_pmaps_filenames = [f\"{directory}/IMAGES/data selection/{run_number}/pmaps/{region}_{run_number}_{chunk}.h5\" for chunk in range(0, n_lastchunk+1)]\n",
    "\n",
    "# bootstrap correction\n",
    "run_number_correction      = run_number\n",
    "correction_filename        = f\"{directory}/CsThNB/maps/kr_corrections_run{run_number_correction}.h5\""
   ]
  },
  {
   "cell_type": "markdown",
   "metadata": {},
   "source": [
    "### Imports"
   ]
  },
  {
   "cell_type": "code",
   "execution_count": 4,
   "metadata": {},
   "outputs": [],
   "source": [
    "import os\n",
    "import time\n",
    "import datetime\n",
    "\n",
    "import tables            as tb\n",
    "import numpy             as np\n",
    "import matplotlib.pyplot as plt\n",
    "import matplotlib.dates  as md\n",
    "import collections       as collections\n",
    "import pandas            as pd\n",
    "\n",
    "from   invisible_cities.io.hits_io         import load_hits\n",
    "from   invisible_cities.io.dst_io          import load_dst\n",
    "import invisible_cities.io.pmaps_io        as pmio\n",
    "\n",
    "import invisible_cities.database.load_db           as db\n",
    "\n",
    "from invisible_cities.core .core_functions import in_range\n",
    "\n",
    "import krcal.utils.hst_extend_functions   as hst\n",
    "import krcal.dev.corrections              as corrections\n",
    "\n",
    "import csth.utils.pmaps_functions         as pmapsf\n",
    "import csth.utils.hpeak_tables            as hptab\n",
    "import csth.utils.hpeak_pmaps_functions   as hppmap\n",
    "import csth.utils.hpeak_plot_functions    as hpplot"
   ]
  },
  {
   "cell_type": "code",
   "execution_count": 5,
   "metadata": {},
   "outputs": [],
   "source": [
    "# Plotting style\n",
    "default_cmap = \"jet\"\n",
    "figure_size  = 10, 8\n",
    "font_size    = 14\n",
    "\n",
    "plt.rcParams[\"figure.figsize\"] =   figure_size\n",
    "plt.rcParams[  \"font.size\"   ] =   font_size"
   ]
  },
  {
   "cell_type": "markdown",
   "metadata": {},
   "source": [
    "### init calibration"
   ]
  },
  {
   "cell_type": "code",
   "execution_count": 6,
   "metadata": {},
   "outputs": [
    {
     "name": "stdout",
     "output_type": "stream",
     "text": [
      "calibration file : /home/gonzalo/Documentos/NEXT/CsThNB/maps/kr_corrections_run6206.h5\n",
      "node             : scale\n",
      "Energy   scale : 10069.6 (pes)\n",
      "Lifetime scale : 2324.4 (us) \n",
      "Charge   scale : 598.7 (pes)\n"
     ]
    }
   ],
   "source": [
    "correction_filename = os.path.expandvars(correction_filename)\n",
    "calibrate = corrections.Calibration(correction_filename, 'scale')\n",
    "\n",
    "datasipm = db.DataSiPM(run_number)\n",
    "sipms_xs, sipms_ys = datasipm.X.values, datasipm.Y.values"
   ]
  },
  {
   "cell_type": "markdown",
   "metadata": {},
   "source": [
    "### load hits"
   ]
  },
  {
   "cell_type": "code",
   "execution_count": 7,
   "metadata": {},
   "outputs": [],
   "source": [
    "pmaps = pmapsf.get_pmaps(input_pmaps_filenames[0], 'gd')"
   ]
  },
  {
   "cell_type": "code",
   "execution_count": 8,
   "metadata": {},
   "outputs": [],
   "source": [
    "evtlist = hppmap.event_list(pmaps)\n",
    "evtlist;"
   ]
  },
  {
   "cell_type": "code",
   "execution_count": null,
   "metadata": {
    "scrolled": true
   },
   "outputs": [],
   "source": [
    "edf = hppmap.event_table_fast(pmaps, sipms_xs, sipms_ys, calibrate)"
   ]
  },
  {
   "cell_type": "code",
   "execution_count": null,
   "metadata": {},
   "outputs": [],
   "source": [
    "edf"
   ]
  },
  {
   "cell_type": "markdown",
   "metadata": {},
   "source": [
    "### One go"
   ]
  },
  {
   "cell_type": "code",
   "execution_count": 16,
   "metadata": {},
   "outputs": [
    {
     "data": {
      "image/png": "[encoded data removed]",
      "text/plain": [
       "<Figure size 720x576 with 1 Axes>"
      ]
     },
     "metadata": {
      "needs_background": "light"
     },
     "output_type": "display_data"
    }
   ],
   "source": [
    "edf['e'].hist(bins = 100, range=(150e3, 175e3));"
   ]
  },
  {
   "cell_type": "markdown",
   "metadata": {},
   "source": [
    "# Data Base\n",
    "\n",
    "This is a loop in all the files containing the hdsts of Cs."
   ]
  },
  {
   "cell_type": "code",
   "execution_count": 7,
   "metadata": {},
   "outputs": [],
   "source": [
    "filesave = f\"pmaps_corrected_{region}_{run_number}.h5\""
   ]
  },
  {
   "cell_type": "code",
   "execution_count": 9,
   "metadata": {},
   "outputs": [
    {
     "name": "stdout",
     "output_type": "stream",
     "text": [
      "total number of peaks  1093\n",
      "processed  250 peaks\n",
      "processed  500 peaks\n",
      "processed  750 peaks\n",
      "processed  1000 peaks\n",
      "Processed files: 1/1\n"
     ]
    }
   ],
   "source": [
    "i = 1\n",
    "for file in input_pmaps_filenames:\n",
    "    \n",
    "    pmaps = pmapsf.get_pmaps(file, 'gd')\n",
    "\n",
    "    edf = hppmap.event_table_fast(pmaps, sipms_xs, sipms_ys, calibrate)\n",
    "    \n",
    "    edf.to_hdf(filesave, key = '', append = True)\n",
    "    \n",
    "    print(f\"Processed files: {i}/{n_lastchunk+1}\")\n",
    "    \n",
    "    i += 1"
   ]
  },
  {
   "cell_type": "code",
   "execution_count": null,
   "metadata": {},
   "outputs": [],
   "source": []
  },
  {
   "cell_type": "code",
   "execution_count": null,
   "metadata": {},
   "outputs": [],
   "source": []
  },
  {
   "cell_type": "code",
   "execution_count": null,
   "metadata": {},
   "outputs": [],
   "source": []
  }
 ],
 "metadata": {
  "kernelspec": {
   "display_name": "Python 3",
   "language": "python",
   "name": "python3"
  },
  "language_info": {
   "codemirror_mode": {
    "name": "ipython",
    "version": 3
   },
   "file_extension": ".py",
   "mimetype": "text/x-python",
   "name": "python",
   "nbconvert_exporter": "python",
   "pygments_lexer": "ipython3",
   "version": "3.6.6"
  }
 },
 "nbformat": 4,
 "nbformat_minor": 2
}
